{
 "cells": [
  {
   "cell_type": "code",
   "execution_count": 4,
   "metadata": {},
   "outputs": [],
   "source": [
    "# !pip install -qU pip wheel\n",
    "# !pip install -q -r ../requirements.txt\n",
    "import sys\n",
    "sys.path.append('..')\n",
    "from ballitoreproject import *\n",
    "from ballitoreproject.networks import *"
   ]
  },
  {
   "cell_type": "code",
   "execution_count": 7,
   "metadata": {},
   "outputs": [
    {
     "data": {
      "application/vnd.jupyter.widget-view+json": {
       "model_id": "a3a1ceca30544d8ca5e478b79861fd96",
       "version_major": 2,
       "version_minor": 0
      },
      "text/plain": [
       "CytoscapeWidget(cytoscape_layout={'name': 'cola'}, cytoscape_style=[{'selector': 'node', 'style': {'content': …"
      ]
     },
     "execution_count": 7,
     "metadata": {},
     "output_type": "execute_result"
    }
   ],
   "source": [
    "G=get_family_tree_network()\n",
    "\n",
    "plot_network(G, edge_color='relationship')"
   ]
  },
  {
   "cell_type": "code",
   "execution_count": 15,
   "metadata": {},
   "outputs": [],
   "source": [
    "\n",
    "def get_correspondence_network(df=None, incl_family_tree=True, min_num_letters=10):\n",
    "    G = nx.DiGraph() if not incl_family_tree else get_family_tree_network()\n",
    "    dfx = (\n",
    "        get_data()\n",
    "        .query('sender!=\"\" & recipient!=\"\"')\n",
    "        .groupby([\"sender\", \"recipient\"])[[\"num_letters\", \"num_words\"]]\n",
    "        .sum()\n",
    "        .reset_index()\n",
    "        .query(f\"num_letters>={min_num_letters}\")\n",
    "        if df is None\n",
    "        else dfx\n",
    "    )\n",
    "    for i, row in dfx.iterrows():\n",
    "        if G.has_edge(row.sender, row.recipient):\n",
    "            G.edges[(row.sender, row.recipient)][\"num_letters\"] = row.num_letters\n",
    "            G.edges[(row.sender, row.recipient)][\"num_words\"] = row.num_words\n",
    "        # elif G.has_node(row.sender) or G.has_node(row.recipient):\n",
    "        else:\n",
    "            G.add_edge(\n",
    "                row.sender,\n",
    "                row.recipient,\n",
    "                relationship=\"wrote\",\n",
    "                num_letters=row.num_letters,\n",
    "                num_words=row.num_words,\n",
    "            )\n",
    "    \n",
    "    for n,d in G.nodes(data=True):\n",
    "        if not 'is_family' in d:\n",
    "            G.nodes[n]['is_family']=False\n",
    "\n",
    "    return G\n",
    "\n"
   ]
  },
  {
   "cell_type": "code",
   "execution_count": 16,
   "metadata": {},
   "outputs": [
    {
     "data": {
      "text/plain": [
       "(55, 63)"
      ]
     },
     "execution_count": 16,
     "metadata": {},
     "output_type": "execute_result"
    }
   ],
   "source": [
    "G=get_correspondence_network(min_num_letters=10)\n",
    "G.order(), G.size()"
   ]
  },
  {
   "cell_type": "code",
   "execution_count": 17,
   "metadata": {},
   "outputs": [
    {
     "data": {
      "application/vnd.jupyter.widget-view+json": {
       "model_id": "518098182ab240fabe1656d2fdd11a34",
       "version_major": 2,
       "version_minor": 0
      },
      "text/plain": [
       "CytoscapeWidget(cytoscape_layout={'name': 'cola'}, cytoscape_style=[{'selector': 'node', 'style': {'content': …"
      ]
     },
     "execution_count": 17,
     "metadata": {},
     "output_type": "execute_result"
    }
   ],
   "source": [
    "plot_network(G, \n",
    "    edge_width='num_letters',\n",
    "    node_color='is_family',\n",
    "    edge_color='relationship',\n",
    "    # node_colormap='Pastel2'\n",
    ")"
   ]
  },
  {
   "cell_type": "code",
   "execution_count": null,
   "metadata": {},
   "outputs": [],
   "source": []
  }
 ],
 "metadata": {
  "kernelspec": {
   "display_name": "venv",
   "language": "python",
   "name": "python3"
  },
  "language_info": {
   "codemirror_mode": {
    "name": "ipython",
    "version": 3
   },
   "file_extension": ".py",
   "mimetype": "text/x-python",
   "name": "python",
   "nbconvert_exporter": "python",
   "pygments_lexer": "ipython3",
   "version": "3.10.7"
  }
 },
 "nbformat": 4,
 "nbformat_minor": 2
}
