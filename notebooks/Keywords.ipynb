{
 "cells": [
  {
   "cell_type": "code",
   "execution_count": null,
   "metadata": {},
   "outputs": [],
   "source": [
    "# !pip install -qU pip wheel\n",
    "# !pip install -q -r ../requirements.txt\n",
    "import sys\n",
    "sys.path.append('..')\n",
    "from ballitoreproject import *\n"
   ]
  },
  {
   "cell_type": "code",
   "execution_count": null,
   "metadata": {},
   "outputs": [],
   "source": [
    "df=get_data()\n",
    "df_smpl = df # ..."
   ]
  },
  {
   "cell_type": "code",
   "execution_count": null,
   "metadata": {},
   "outputs": [],
   "source": [
    "all_words = [word for txt in df_smpl.txt for word in txt.split()]\n",
    "nltk_text = nltk.Text(all_words)\n",
    "nltk_text.concordance('abolition')"
   ]
  },
  {
   "cell_type": "code",
   "execution_count": null,
   "metadata": {},
   "outputs": [],
   "source": [
    "def concordance(word, width=100):\n",
    "    all_words_with_ids = [(word,id) for id,txt in zip(df_smpl.index,df_smpl.txt) for word in txt.split()]\n",
    "    all_words = [w for w,id in all_words_with_ids]\n",
    "    nltk_text = nltk.Text(all_words)\n",
    "\n",
    "    o=[]\n",
    "    for match in nltk_text.concordance_list(word,lines=None, width=width):\n",
    "        match_id = all_words_with_ids[match.offset][1]\n",
    "        match_d={\n",
    "            'id':match_id,\n",
    "            'left':match.left_print,\n",
    "            'word':match.query,\n",
    "            'right':match.right_print\n",
    "        }\n",
    "        o.append(match_d)\n",
    "    pd.options.display.max_colwidth=None\n",
    "    return pd.DataFrame(o).set_index('id').join(df_smpl,how='left').drop('txt',axis=1)\n",
    "    "
   ]
  },
  {
   "cell_type": "code",
   "execution_count": null,
   "metadata": {},
   "outputs": [],
   "source": [
    "df_conc = concordance('abolition', width=500)\n",
    "df_conc"
   ]
  },
  {
   "cell_type": "code",
   "execution_count": null,
   "metadata": {},
   "outputs": [],
   "source": [
    "df_conc.sender.value_counts()"
   ]
  },
  {
   "cell_type": "code",
   "execution_count": null,
   "metadata": {},
   "outputs": [],
   "source": [
    "df_conc.recipient.value_counts()"
   ]
  },
  {
   "cell_type": "code",
   "execution_count": null,
   "metadata": {},
   "outputs": [],
   "source": [
    "# !pip install altair\n",
    "import altair as alt\n",
    "\n",
    "def plot_keyword_over_time(word, by='year', normalize=False):\n",
    "    df_conc = concordance(word).query('0<year<=1950')\n",
    "    df_count = df_conc[by].value_counts().reset_index()\n",
    "    yearsums = df.groupby(by).num_words.sum()\n",
    "    df_count['fpk'] = [count / yearsums.loc[year] * 1000 for year,count in zip(df_count[by], df_count['count'])]\n",
    "    # df_count.plot(kind='scatter', x=by,y='fpk')\n",
    "    \n",
    "    chart = alt.Chart(df_count).mark_bar().encode(\n",
    "        x=alt.X(by, title=by.capitalize()),\n",
    "        y=alt.Y('count' if not normalize else 'fpk', title='Count' if not normalize else 'Count per 1000 words'),\n",
    "        tooltip=[by, 'count', 'fpk']\n",
    "    ).properties(\n",
    "        title=f'Keyword \"{word}\" Count Over Time'\n",
    "    )\n",
    "    return chart"
   ]
  },
  {
   "cell_type": "code",
   "execution_count": null,
   "metadata": {},
   "outputs": [],
   "source": [
    "plot_keyword_over_time('abolition')"
   ]
  },
  {
   "cell_type": "code",
   "execution_count": null,
   "metadata": {},
   "outputs": [],
   "source": [
    "plot_keyword_over_time('doctor')"
   ]
  },
  {
   "cell_type": "code",
   "execution_count": null,
   "metadata": {},
   "outputs": [],
   "source": [
    "plot_keyword_over_time('liberty')"
   ]
  },
  {
   "cell_type": "code",
   "execution_count": null,
   "metadata": {},
   "outputs": [],
   "source": [
    "plot_keyword_over_time('sick')"
   ]
  },
  {
   "cell_type": "code",
   "execution_count": null,
   "metadata": {},
   "outputs": [],
   "source": [
    "plot_keyword_over_time('slave')\n"
   ]
  },
  {
   "cell_type": "code",
   "execution_count": null,
   "metadata": {},
   "outputs": [],
   "source": []
  },
  {
   "cell_type": "code",
   "execution_count": null,
   "metadata": {},
   "outputs": [],
   "source": []
  }
 ],
 "metadata": {
  "kernelspec": {
   "display_name": "venv",
   "language": "python",
   "name": "python3"
  },
  "language_info": {
   "codemirror_mode": {
    "name": "ipython",
    "version": 3
   },
   "file_extension": ".py",
   "mimetype": "text/x-python",
   "name": "python",
   "nbconvert_exporter": "python",
   "pygments_lexer": "ipython3",
   "version": "3.10.7"
  }
 },
 "nbformat": 4,
 "nbformat_minor": 2
}
