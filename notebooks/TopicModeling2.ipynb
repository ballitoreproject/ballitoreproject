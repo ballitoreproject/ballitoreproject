{
 "cells": [
  {
   "cell_type": "code",
   "execution_count": 3,
   "metadata": {},
   "outputs": [],
   "source": [
    "# !pip install -qU pip wheel\n",
    "# !pip install -q -r ../requirements.txt\n",
    "import sys\n",
    "sys.path.append('..')\n",
    "from ballitoreproject import *\n",
    "from ballitoreproject.topicmodels import *"
   ]
  },
  {
   "cell_type": "code",
   "execution_count": 4,
   "metadata": {},
   "outputs": [
    {
     "data": {
      "text/html": [
       "<div>\n",
       "<style scoped>\n",
       "    .dataframe tbody tr th:only-of-type {\n",
       "        vertical-align: middle;\n",
       "    }\n",
       "\n",
       "    .dataframe tbody tr th {\n",
       "        vertical-align: top;\n",
       "    }\n",
       "\n",
       "    .dataframe thead th {\n",
       "        text-align: right;\n",
       "    }\n",
       "</style>\n",
       "<table border=\"1\" class=\"dataframe\">\n",
       "  <thead>\n",
       "    <tr style=\"text-align: right;\">\n",
       "      <th></th>\n",
       "      <th>sender</th>\n",
       "      <th>recipient</th>\n",
       "      <th>date</th>\n",
       "      <th>location from</th>\n",
       "      <th>location to</th>\n",
       "      <th>box</th>\n",
       "      <th>notes</th>\n",
       "      <th>datetime</th>\n",
       "      <th>dateyear</th>\n",
       "      <th>is_journal</th>\n",
       "      <th>txt</th>\n",
       "      <th>supplemental_ids</th>\n",
       "    </tr>\n",
       "    <tr>\n",
       "      <th>id</th>\n",
       "      <th></th>\n",
       "      <th></th>\n",
       "      <th></th>\n",
       "      <th></th>\n",
       "      <th></th>\n",
       "      <th></th>\n",
       "      <th></th>\n",
       "      <th></th>\n",
       "      <th></th>\n",
       "      <th></th>\n",
       "      <th></th>\n",
       "      <th></th>\n",
       "    </tr>\n",
       "  </thead>\n",
       "  <tbody>\n",
       "    <tr>\n",
       "      <th>mss4-b1-f7-001-176</th>\n",
       "      <td>William Penn</td>\n",
       "      <td>Unknown 1.1</td>\n",
       "      <td>2/10/1690</td>\n",
       "      <td>London</td>\n",
       "      <td></td>\n",
       "      <td>1</td>\n",
       "      <td>copy; p. 2</td>\n",
       "      <td>1690-02-10</td>\n",
       "      <td>1690</td>\n",
       "      <td>False</td>\n",
       "      <td></td>\n",
       "      <td>mss4-b1-f7-001-177</td>\n",
       "    </tr>\n",
       "    <tr>\n",
       "      <th>mss4-b1-f3-005</th>\n",
       "      <td>Abraham Shackleton I</td>\n",
       "      <td>Richard Shackleton</td>\n",
       "      <td>1744</td>\n",
       "      <td></td>\n",
       "      <td>Dublin</td>\n",
       "      <td>1</td>\n",
       "      <td>extract</td>\n",
       "      <td>1744-07-11</td>\n",
       "      <td>1744</td>\n",
       "      <td>False</td>\n",
       "      <td>P.7\\t“Keep thy mind as quiet as possible, so t...</td>\n",
       "      <td></td>\n",
       "    </tr>\n",
       "    <tr>\n",
       "      <th>mss4-b1-f7-001-3</th>\n",
       "      <td>Sophia Hume</td>\n",
       "      <td>Anne Hyam</td>\n",
       "      <td>6/1/1748</td>\n",
       "      <td>Philadelphia</td>\n",
       "      <td></td>\n",
       "      <td>1</td>\n",
       "      <td>; p. 6</td>\n",
       "      <td>1748-06-01</td>\n",
       "      <td>1748</td>\n",
       "      <td>False</td>\n",
       "      <td></td>\n",
       "      <td>mss4-b1-f7-001-30</td>\n",
       "    </tr>\n",
       "    <tr>\n",
       "      <th>mss4-b1-f3-005-006</th>\n",
       "      <td>Abraham Shackleton I</td>\n",
       "      <td>Richard Shackleton</td>\n",
       "      <td>1748</td>\n",
       "      <td></td>\n",
       "      <td>Dublin</td>\n",
       "      <td>1</td>\n",
       "      <td></td>\n",
       "      <td>1748-07-11</td>\n",
       "      <td>1748</td>\n",
       "      <td>False</td>\n",
       "      <td>\\t“We are very desirous of seeing thee at home...</td>\n",
       "      <td></td>\n",
       "    </tr>\n",
       "    <tr>\n",
       "      <th>mss4-b1-f7-001-15</th>\n",
       "      <td>Sophia Hume</td>\n",
       "      <td>J. P.</td>\n",
       "      <td>5/19/1750</td>\n",
       "      <td>London</td>\n",
       "      <td></td>\n",
       "      <td>1</td>\n",
       "      <td></td>\n",
       "      <td>1750-05-19</td>\n",
       "      <td>1750</td>\n",
       "      <td>False</td>\n",
       "      <td></td>\n",
       "      <td></td>\n",
       "    </tr>\n",
       "    <tr>\n",
       "      <th>...</th>\n",
       "      <td>...</td>\n",
       "      <td>...</td>\n",
       "      <td>...</td>\n",
       "      <td>...</td>\n",
       "      <td>...</td>\n",
       "      <td>...</td>\n",
       "      <td>...</td>\n",
       "      <td>...</td>\n",
       "      <td>...</td>\n",
       "      <td>...</td>\n",
       "      <td>...</td>\n",
       "      <td>...</td>\n",
       "    </tr>\n",
       "    <tr>\n",
       "      <th>consensus_text_90345943</th>\n",
       "      <td></td>\n",
       "      <td></td>\n",
       "      <td></td>\n",
       "      <td></td>\n",
       "      <td></td>\n",
       "      <td>14</td>\n",
       "      <td></td>\n",
       "      <td>NaT</td>\n",
       "      <td>0</td>\n",
       "      <td>True</td>\n",
       "      <td>was no company here to day, and\\neven Charlie ...</td>\n",
       "      <td></td>\n",
       "    </tr>\n",
       "    <tr>\n",
       "      <th>consensus_text_90345944</th>\n",
       "      <td></td>\n",
       "      <td></td>\n",
       "      <td></td>\n",
       "      <td></td>\n",
       "      <td></td>\n",
       "      <td>14</td>\n",
       "      <td></td>\n",
       "      <td>NaT</td>\n",
       "      <td>0</td>\n",
       "      <td>True</td>\n",
       "      <td>dinner, Papa, Ned, and the\\nrest came out to t...</td>\n",
       "      <td></td>\n",
       "    </tr>\n",
       "    <tr>\n",
       "      <th>consensus_text_90345945</th>\n",
       "      <td></td>\n",
       "      <td></td>\n",
       "      <td></td>\n",
       "      <td></td>\n",
       "      <td></td>\n",
       "      <td>14</td>\n",
       "      <td></td>\n",
       "      <td>NaT</td>\n",
       "      <td>0</td>\n",
       "      <td>True</td>\n",
       "      <td>[deletion]16[/deletion] Papa did not go to tow...</td>\n",
       "      <td></td>\n",
       "    </tr>\n",
       "    <tr>\n",
       "      <th>consensus_text_90345946</th>\n",
       "      <td></td>\n",
       "      <td></td>\n",
       "      <td></td>\n",
       "      <td></td>\n",
       "      <td></td>\n",
       "      <td>14</td>\n",
       "      <td></td>\n",
       "      <td>NaT</td>\n",
       "      <td>0</td>\n",
       "      <td>True</td>\n",
       "      <td>[unclear]Strangman[/unclear] came over to tea ...</td>\n",
       "      <td></td>\n",
       "    </tr>\n",
       "    <tr>\n",
       "      <th>consensus_text_90345947</th>\n",
       "      <td></td>\n",
       "      <td></td>\n",
       "      <td></td>\n",
       "      <td></td>\n",
       "      <td></td>\n",
       "      <td>14</td>\n",
       "      <td></td>\n",
       "      <td>NaT</td>\n",
       "      <td>0</td>\n",
       "      <td>True</td>\n",
       "      <td>27 Sunday Fine - Yearly Meeting -\\nPapa and Ne...</td>\n",
       "      <td></td>\n",
       "    </tr>\n",
       "  </tbody>\n",
       "</table>\n",
       "<p>4560 rows × 12 columns</p>\n",
       "</div>"
      ],
      "text/plain": [
       "                                       sender           recipient       date  \\\n",
       "id                                                                             \n",
       "mss4-b1-f7-001-176               William Penn         Unknown 1.1  2/10/1690   \n",
       "mss4-b1-f3-005           Abraham Shackleton I  Richard Shackleton       1744   \n",
       "mss4-b1-f7-001-3                  Sophia Hume           Anne Hyam   6/1/1748   \n",
       "mss4-b1-f3-005-006       Abraham Shackleton I  Richard Shackleton       1748   \n",
       "mss4-b1-f7-001-15                 Sophia Hume               J. P.  5/19/1750   \n",
       "...                                       ...                 ...        ...   \n",
       "consensus_text_90345943                                                        \n",
       "consensus_text_90345944                                                        \n",
       "consensus_text_90345945                                                        \n",
       "consensus_text_90345946                                                        \n",
       "consensus_text_90345947                                                        \n",
       "\n",
       "                        location from location to  box       notes   datetime  \\\n",
       "id                                                                              \n",
       "mss4-b1-f7-001-176             London                1  copy; p. 2 1690-02-10   \n",
       "mss4-b1-f3-005                             Dublin    1     extract 1744-07-11   \n",
       "mss4-b1-f7-001-3         Philadelphia                1      ; p. 6 1748-06-01   \n",
       "mss4-b1-f3-005-006                         Dublin    1             1748-07-11   \n",
       "mss4-b1-f7-001-15              London                1             1750-05-19   \n",
       "...                               ...         ...  ...         ...        ...   \n",
       "consensus_text_90345943                             14                    NaT   \n",
       "consensus_text_90345944                             14                    NaT   \n",
       "consensus_text_90345945                             14                    NaT   \n",
       "consensus_text_90345946                             14                    NaT   \n",
       "consensus_text_90345947                             14                    NaT   \n",
       "\n",
       "                         dateyear  is_journal  \\\n",
       "id                                              \n",
       "mss4-b1-f7-001-176           1690       False   \n",
       "mss4-b1-f3-005               1744       False   \n",
       "mss4-b1-f7-001-3             1748       False   \n",
       "mss4-b1-f3-005-006           1748       False   \n",
       "mss4-b1-f7-001-15            1750       False   \n",
       "...                           ...         ...   \n",
       "consensus_text_90345943         0        True   \n",
       "consensus_text_90345944         0        True   \n",
       "consensus_text_90345945         0        True   \n",
       "consensus_text_90345946         0        True   \n",
       "consensus_text_90345947         0        True   \n",
       "\n",
       "                                                                       txt  \\\n",
       "id                                                                           \n",
       "mss4-b1-f7-001-176                                                           \n",
       "mss4-b1-f3-005           P.7\\t“Keep thy mind as quiet as possible, so t...   \n",
       "mss4-b1-f7-001-3                                                             \n",
       "mss4-b1-f3-005-006       \\t“We are very desirous of seeing thee at home...   \n",
       "mss4-b1-f7-001-15                                                            \n",
       "...                                                                    ...   \n",
       "consensus_text_90345943  was no company here to day, and\\neven Charlie ...   \n",
       "consensus_text_90345944  dinner, Papa, Ned, and the\\nrest came out to t...   \n",
       "consensus_text_90345945  [deletion]16[/deletion] Papa did not go to tow...   \n",
       "consensus_text_90345946  [unclear]Strangman[/unclear] came over to tea ...   \n",
       "consensus_text_90345947  27 Sunday Fine - Yearly Meeting -\\nPapa and Ne...   \n",
       "\n",
       "                           supplemental_ids  \n",
       "id                                           \n",
       "mss4-b1-f7-001-176       mss4-b1-f7-001-177  \n",
       "mss4-b1-f3-005                               \n",
       "mss4-b1-f7-001-3          mss4-b1-f7-001-30  \n",
       "mss4-b1-f3-005-006                           \n",
       "mss4-b1-f7-001-15                            \n",
       "...                                     ...  \n",
       "consensus_text_90345943                      \n",
       "consensus_text_90345944                      \n",
       "consensus_text_90345945                      \n",
       "consensus_text_90345946                      \n",
       "consensus_text_90345947                      \n",
       "\n",
       "[4560 rows x 12 columns]"
      ]
     },
     "execution_count": 4,
     "metadata": {},
     "output_type": "execute_result"
    }
   ],
   "source": [
    "df = get_data()\n",
    "df"
   ]
  },
  {
   "cell_type": "code",
   "execution_count": 5,
   "metadata": {},
   "outputs": [],
   "source": [
    "# tm = TopicModel(df)"
   ]
  },
  {
   "cell_type": "code",
   "execution_count": 6,
   "metadata": {},
   "outputs": [],
   "source": [
    "# tm.model(ntopic=75, niter=1000)"
   ]
  },
  {
   "cell_type": "code",
   "execution_count": 7,
   "metadata": {},
   "outputs": [],
   "source": [
    "# tm.visualize_topics()"
   ]
  },
  {
   "cell_type": "code",
   "execution_count": 8,
   "metadata": {},
   "outputs": [
    {
     "name": "stderr",
     "output_type": "stream",
     "text": [
      "\u001b[34m\u001b[1m⎾ loading or generating model\u001b[0m\u001b[36m @ 2024-07-12 20:44:54,596\u001b[0m\n",
      "\u001b[34m\u001b[1m￨ ⎾ importing BERTopic\u001b[0m\u001b[36m @ 2024-07-12 20:44:54,597\u001b[0m\n",
      "\u001b[34m\u001b[1m￨ ⎿ 4.2 seconds\u001b[0m\u001b[36m @ 2024-07-12 20:44:58,816\u001b[0m\n",
      "\u001b[34m\u001b[1m￨ ⎾ fitting model\u001b[0m\u001b[36m @ 2024-07-12 20:44:58,818\u001b[0m\n",
      "2024-07-12 20:44:58,820 - BERTopic - Embedding - Transforming documents to embeddings.\n",
      "Batches: 100%|██████████| 143/143 [00:23<00:00,  6.00it/s]\n",
      "2024-07-12 20:45:24,771 - BERTopic - Embedding - Completed ✓\n",
      "2024-07-12 20:45:24,772 - BERTopic - Dimensionality - Fitting the dimensionality reduction algorithm\n",
      "OMP: Info #276: omp_set_nested routine deprecated, please use omp_set_max_active_levels instead.\n",
      "2024-07-12 20:45:35,492 - BERTopic - Dimensionality - Completed ✓\n",
      "2024-07-12 20:45:35,493 - BERTopic - Cluster - Start clustering the reduced embeddings\n",
      "2024-07-12 20:45:35,581 - BERTopic - Cluster - Completed ✓\n",
      "2024-07-12 20:45:35,585 - BERTopic - Representation - Extracting topics from clusters using representation models.\n",
      "2024-07-12 20:45:39,802 - BERTopic - Representation - Completed ✓\n",
      "\u001b[34m\u001b[1m￨ ⎿ 41.5 seconds\u001b[0m\u001b[36m @ 2024-07-12 20:45:40,339\u001b[0m\n",
      "\u001b[34m\u001b[1m￨ ⎾ saving model to disk: topicmodels/bertopic/bertopic/model.bin\u001b[0m\u001b[36m @ 2024-07-12 20:45:40,340\u001b[0m\n",
      "\u001b[34m\u001b[1m￨ ⎿ 2 seconds\u001b[0m\u001b[36m @ 2024-07-12 20:45:42,336\u001b[0m\n",
      "\u001b[34m\u001b[1m⎿ 47.7 seconds\u001b[0m\u001b[36m @ 2024-07-12 20:45:42,336\u001b[0m\n"
     ]
    },
    {
     "data": {
      "text/plain": [
       "<bertopic._bertopic.BERTopic at 0x292f32110>"
      ]
     },
     "execution_count": 8,
     "metadata": {},
     "output_type": "execute_result"
    }
   ],
   "source": [
    "tm2 = TopicModel(df, model_type='bert')\n",
    "tm2.model(force=True)"
   ]
  },
  {
   "cell_type": "code",
   "execution_count": 9,
   "metadata": {},
   "outputs": [
    {
     "data": {
      "application/vnd.plotly.v1+json": {
       "config": {
        "plotlyServerURL": "https://plot.ly"
       },
       "data": [
        {
         "hoverinfo": "text",
         "marker": {
          "color": "rgb(61,153,112)"
         },
         "mode": "lines",
         "type": "scatter",
         "x": [
          0,
          0.9999999999999999,
          0.9999999999999999,
          0
         ],
         "xaxis": "x",
         "y": [
          -15,
          -15,
          -25,
          -25
         ],
         "yaxis": "y"
        },
        {
         "hoverinfo": "text",
         "marker": {
          "color": "rgb(61,153,112)"
         },
         "mode": "lines",
         "type": "scatter",
         "x": [
          0,
          0.9999999999999999,
          0.9999999999999999,
          0.9999999999999999
         ],
         "xaxis": "x",
         "y": [
          -5,
          -5,
          -20,
          -20
         ],
         "yaxis": "y"
        },
        {
         "hoverinfo": "text",
         "marker": {
          "color": "rgb(255,65,54)"
         },
         "mode": "lines",
         "type": "scatter",
         "x": [
          0,
          0.9999999999999999,
          0.9999999999999999,
          0
         ],
         "xaxis": "x",
         "y": [
          -95,
          -95,
          -105,
          -105
         ],
         "yaxis": "y"
        },
        {
         "hoverinfo": "text",
         "marker": {
          "color": "rgb(255,65,54)"
         },
         "mode": "lines",
         "type": "scatter",
         "x": [
          0.9999999999999999,
          0.9999999999999999,
          0.9999999999999999,
          0
         ],
         "xaxis": "x",
         "y": [
          -100,
          -100,
          -115,
          -115
         ],
         "yaxis": "y"
        },
        {
         "hoverinfo": "text",
         "marker": {
          "color": "rgb(255,65,54)"
         },
         "mode": "lines",
         "type": "scatter",
         "x": [
          0,
          0.9999999999999999,
          0.9999999999999999,
          0.9999999999999999
         ],
         "xaxis": "x",
         "y": [
          -85,
          -85,
          -107.5,
          -107.5
         ],
         "yaxis": "y"
        },
        {
         "hoverinfo": "text",
         "marker": {
          "color": "rgb(255,65,54)"
         },
         "mode": "lines",
         "type": "scatter",
         "x": [
          0.9999999999999999,
          0.9999999999999999,
          0.9999999999999999,
          0
         ],
         "xaxis": "x",
         "y": [
          -96.25,
          -96.25,
          -125,
          -125
         ],
         "yaxis": "y"
        },
        {
         "hoverinfo": "text",
         "marker": {
          "color": "rgb(255,65,54)"
         },
         "mode": "lines",
         "type": "scatter",
         "x": [
          0,
          0.9999999999999999,
          0.9999999999999999,
          0.9999999999999999
         ],
         "xaxis": "x",
         "y": [
          -75,
          -75,
          -110.625,
          -110.625
         ],
         "yaxis": "y"
        },
        {
         "hoverinfo": "text",
         "marker": {
          "color": "rgb(255,65,54)"
         },
         "mode": "lines",
         "type": "scatter",
         "x": [
          0.9999999999999999,
          0.9999999999999999,
          0.9999999999999999,
          0
         ],
         "xaxis": "x",
         "y": [
          -92.8125,
          -92.8125,
          -135,
          -135
         ],
         "yaxis": "y"
        },
        {
         "hoverinfo": "text",
         "marker": {
          "color": "rgb(255,65,54)"
         },
         "mode": "lines",
         "type": "scatter",
         "x": [
          0,
          0.9999999999999999,
          0.9999999999999999,
          0.9999999999999999
         ],
         "xaxis": "x",
         "y": [
          -65,
          -65,
          -113.90625,
          -113.90625
         ],
         "yaxis": "y"
        },
        {
         "hoverinfo": "text",
         "marker": {
          "color": "rgb(0,116,217)"
         },
         "mode": "lines",
         "type": "scatter",
         "x": [
          0,
          1,
          1,
          0
         ],
         "xaxis": "x",
         "y": [
          -155,
          -155,
          -165,
          -165
         ],
         "yaxis": "y"
        },
        {
         "hoverinfo": "text",
         "marker": {
          "color": "rgb(0,116,217)"
         },
         "mode": "lines",
         "type": "scatter",
         "x": [
          0,
          1,
          1,
          1
         ],
         "xaxis": "x",
         "y": [
          -145,
          -145,
          -160,
          -160
         ],
         "yaxis": "y"
        },
        {
         "hoverinfo": "text",
         "marker": {
          "color": "rgb(0,116,217)"
         },
         "mode": "lines",
         "type": "scatter",
         "x": [
          1,
          1,
          1,
          0
         ],
         "xaxis": "x",
         "y": [
          -152.5,
          -152.5,
          -175,
          -175
         ],
         "yaxis": "y"
        },
        {
         "hoverinfo": "text",
         "marker": {
          "color": "rgb(0,116,217)"
         },
         "mode": "lines",
         "type": "scatter",
         "x": [
          0.9999999999999999,
          1,
          1,
          1
         ],
         "xaxis": "x",
         "y": [
          -89.453125,
          -89.453125,
          -163.75,
          -163.75
         ],
         "yaxis": "y"
        },
        {
         "hoverinfo": "text",
         "marker": {
          "color": "rgb(0,116,217)"
         },
         "mode": "lines",
         "type": "scatter",
         "x": [
          1,
          1,
          1,
          0
         ],
         "xaxis": "x",
         "y": [
          -126.6015625,
          -126.6015625,
          -185,
          -185
         ],
         "yaxis": "y"
        },
        {
         "hoverinfo": "text",
         "marker": {
          "color": "rgb(0,116,217)"
         },
         "mode": "lines",
         "type": "scatter",
         "x": [
          0,
          1,
          1,
          1
         ],
         "xaxis": "x",
         "y": [
          -55,
          -55,
          -155.80078125,
          -155.80078125
         ],
         "yaxis": "y"
        },
        {
         "hoverinfo": "text",
         "marker": {
          "color": "rgb(0,116,217)"
         },
         "mode": "lines",
         "type": "scatter",
         "x": [
          1,
          1,
          1,
          0
         ],
         "xaxis": "x",
         "y": [
          -105.400390625,
          -105.400390625,
          -195,
          -195
         ],
         "yaxis": "y"
        },
        {
         "hoverinfo": "text",
         "marker": {
          "color": "rgb(0,116,217)"
         },
         "mode": "lines",
         "type": "scatter",
         "x": [
          0,
          1,
          1,
          1
         ],
         "xaxis": "x",
         "y": [
          -45,
          -45,
          -150.2001953125,
          -150.2001953125
         ],
         "yaxis": "y"
        },
        {
         "hoverinfo": "text",
         "marker": {
          "color": "rgb(0,116,217)"
         },
         "mode": "lines",
         "type": "scatter",
         "x": [
          1,
          1,
          1,
          0
         ],
         "xaxis": "x",
         "y": [
          -97.60009765625,
          -97.60009765625,
          -205,
          -205
         ],
         "yaxis": "y"
        },
        {
         "hoverinfo": "text",
         "marker": {
          "color": "rgb(0,116,217)"
         },
         "mode": "lines",
         "type": "scatter",
         "x": [
          0,
          1,
          1,
          1
         ],
         "xaxis": "x",
         "y": [
          -35,
          -35,
          -151.300048828125,
          -151.300048828125
         ],
         "yaxis": "y"
        },
        {
         "hoverinfo": "text",
         "marker": {
          "color": "rgb(0,116,217)"
         },
         "mode": "lines",
         "type": "scatter",
         "x": [
          1,
          1,
          1,
          0
         ],
         "xaxis": "x",
         "y": [
          -93.1500244140625,
          -93.1500244140625,
          -215,
          -215
         ],
         "yaxis": "y"
        },
        {
         "hoverinfo": "text",
         "marker": {
          "color": "rgb(0,116,217)"
         },
         "mode": "lines",
         "type": "scatter",
         "x": [
          0.9999999999999999,
          1,
          1,
          1
         ],
         "xaxis": "x",
         "y": [
          -12.5,
          -12.5,
          -154.07501220703125,
          -154.07501220703125
         ],
         "yaxis": "y"
        },
        {
         "hoverinfo": "text",
         "marker": {
          "color": "rgb(35,205,205)"
         },
         "mode": "lines",
         "type": "scatter",
         "x": [
          0,
          0.9534159480788045,
          0.9534159480788045,
          0
         ],
         "xaxis": "x",
         "y": [
          -225,
          -225,
          -235,
          -235
         ],
         "yaxis": "y"
        },
        {
         "hoverinfo": "text",
         "marker": {
          "color": "rgb(0,116,217)"
         },
         "mode": "lines",
         "type": "scatter",
         "x": [
          1,
          1.0408721635179694,
          1.0408721635179694,
          0.9534159480788045
         ],
         "xaxis": "x",
         "y": [
          -83.28750610351562,
          -83.28750610351562,
          -230,
          -230
         ],
         "yaxis": "y"
        },
        {
         "hoverinfo": "text",
         "marker": {
          "color": "rgb(133,20,75)"
         },
         "mode": "lines",
         "type": "scatter",
         "x": [
          0,
          0.592230466975067,
          0.592230466975067,
          0
         ],
         "xaxis": "x",
         "y": [
          -245,
          -245,
          -255,
          -255
         ],
         "yaxis": "y"
        },
        {
         "hoverinfo": "text",
         "marker": {
          "color": "rgb(133,20,75)"
         },
         "mode": "lines",
         "type": "scatter",
         "x": [
          0.592230466975067,
          0.6217783261989873,
          0.6217783261989873,
          0
         ],
         "xaxis": "x",
         "y": [
          -250,
          -250,
          -265,
          -265
         ],
         "yaxis": "y"
        },
        {
         "hoverinfo": "text",
         "marker": {
          "color": "rgb(255,220,0)"
         },
         "mode": "lines",
         "type": "scatter",
         "x": [
          0,
          0.19737390472939054,
          0.19737390472939054,
          0
         ],
         "xaxis": "x",
         "y": [
          -295,
          -295,
          -305,
          -305
         ],
         "yaxis": "y"
        },
        {
         "hoverinfo": "text",
         "marker": {
          "color": "rgb(255,220,0)"
         },
         "mode": "lines",
         "type": "scatter",
         "x": [
          0.19737390472939054,
          0.3539131408407683,
          0.3539131408407683,
          0
         ],
         "xaxis": "x",
         "y": [
          -300,
          -300,
          -315,
          -315
         ],
         "yaxis": "y"
        },
        {
         "hoverinfo": "text",
         "marker": {
          "color": "rgb(255,220,0)"
         },
         "mode": "lines",
         "type": "scatter",
         "x": [
          0,
          0.48608401437816406,
          0.48608401437816406,
          0.3539131408407683
         ],
         "xaxis": "x",
         "y": [
          -285,
          -285,
          -307.5,
          -307.5
         ],
         "yaxis": "y"
        },
        {
         "hoverinfo": "text",
         "marker": {
          "color": "rgb(255,220,0)"
         },
         "mode": "lines",
         "type": "scatter",
         "x": [
          0,
          0.45712463043305585,
          0.45712463043305585,
          0
         ],
         "xaxis": "x",
         "y": [
          -325,
          -325,
          -335,
          -335
         ],
         "yaxis": "y"
        },
        {
         "hoverinfo": "text",
         "marker": {
          "color": "rgb(255,220,0)"
         },
         "mode": "lines",
         "type": "scatter",
         "x": [
          0.48608401437816406,
          0.5691845390389275,
          0.5691845390389275,
          0.45712463043305585
         ],
         "xaxis": "x",
         "y": [
          -296.25,
          -296.25,
          -330,
          -330
         ],
         "yaxis": "y"
        },
        {
         "hoverinfo": "text",
         "marker": {
          "color": "rgb(255,220,0)"
         },
         "mode": "lines",
         "type": "scatter",
         "x": [
          0,
          0.7025380924078772,
          0.7025380924078772,
          0.5691845390389275
         ],
         "xaxis": "x",
         "y": [
          -275,
          -275,
          -313.125,
          -313.125
         ],
         "yaxis": "y"
        },
        {
         "hoverinfo": "text",
         "marker": {
          "color": "rgb(255,220,0)"
         },
         "mode": "lines",
         "type": "scatter",
         "x": [
          0,
          0.10872967967730107,
          0.10872967967730107,
          0
         ],
         "xaxis": "x",
         "y": [
          -355,
          -355,
          -365,
          -365
         ],
         "yaxis": "y"
        },
        {
         "hoverinfo": "text",
         "marker": {
          "color": "rgb(255,220,0)"
         },
         "mode": "lines",
         "type": "scatter",
         "x": [
          0.10872967967730107,
          0.20206917865639223,
          0.20206917865639223,
          0
         ],
         "xaxis": "x",
         "y": [
          -360,
          -360,
          -375,
          -375
         ],
         "yaxis": "y"
        },
        {
         "hoverinfo": "text",
         "marker": {
          "color": "rgb(255,220,0)"
         },
         "mode": "lines",
         "type": "scatter",
         "x": [
          0.20206917865639223,
          0.2433683631361073,
          0.2433683631361073,
          0
         ],
         "xaxis": "x",
         "y": [
          -367.5,
          -367.5,
          -385,
          -385
         ],
         "yaxis": "y"
        },
        {
         "hoverinfo": "text",
         "marker": {
          "color": "rgb(255,220,0)"
         },
         "mode": "lines",
         "type": "scatter",
         "x": [
          0,
          0.15810824382716993,
          0.15810824382716993,
          0
         ],
         "xaxis": "x",
         "y": [
          -405,
          -405,
          -415,
          -415
         ],
         "yaxis": "y"
        },
        {
         "hoverinfo": "text",
         "marker": {
          "color": "rgb(255,220,0)"
         },
         "mode": "lines",
         "type": "scatter",
         "x": [
          0,
          0.12610437826410537,
          0.12610437826410537,
          0
         ],
         "xaxis": "x",
         "y": [
          -425,
          -425,
          -435,
          -435
         ],
         "yaxis": "y"
        },
        {
         "hoverinfo": "text",
         "marker": {
          "color": "rgb(255,220,0)"
         },
         "mode": "lines",
         "type": "scatter",
         "x": [
          0.12610437826410537,
          0.17088784784687167,
          0.17088784784687167,
          0
         ],
         "xaxis": "x",
         "y": [
          -430,
          -430,
          -445,
          -445
         ],
         "yaxis": "y"
        },
        {
         "hoverinfo": "text",
         "marker": {
          "color": "rgb(255,220,0)"
         },
         "mode": "lines",
         "type": "scatter",
         "x": [
          0.15810824382716993,
          0.23103274563257972,
          0.23103274563257972,
          0.17088784784687167
         ],
         "xaxis": "x",
         "y": [
          -410,
          -410,
          -437.5,
          -437.5
         ],
         "yaxis": "y"
        },
        {
         "hoverinfo": "text",
         "marker": {
          "color": "rgb(255,220,0)"
         },
         "mode": "lines",
         "type": "scatter",
         "x": [
          0,
          0.2347602820292074,
          0.2347602820292074,
          0
         ],
         "xaxis": "x",
         "y": [
          -455,
          -455,
          -465,
          -465
         ],
         "yaxis": "y"
        },
        {
         "hoverinfo": "text",
         "marker": {
          "color": "rgb(255,220,0)"
         },
         "mode": "lines",
         "type": "scatter",
         "x": [
          0.23103274563257972,
          0.30896858130537697,
          0.30896858130537697,
          0.2347602820292074
         ],
         "xaxis": "x",
         "y": [
          -423.75,
          -423.75,
          -460,
          -460
         ],
         "yaxis": "y"
        },
        {
         "hoverinfo": "text",
         "marker": {
          "color": "rgb(255,220,0)"
         },
         "mode": "lines",
         "type": "scatter",
         "x": [
          0,
          0.32605779977374527,
          0.32605779977374527,
          0.30896858130537697
         ],
         "xaxis": "x",
         "y": [
          -395,
          -395,
          -441.875,
          -441.875
         ],
         "yaxis": "y"
        },
        {
         "hoverinfo": "text",
         "marker": {
          "color": "rgb(255,220,0)"
         },
         "mode": "lines",
         "type": "scatter",
         "x": [
          0.32605779977374527,
          0.3478005823403336,
          0.3478005823403336,
          0
         ],
         "xaxis": "x",
         "y": [
          -418.4375,
          -418.4375,
          -475,
          -475
         ],
         "yaxis": "y"
        },
        {
         "hoverinfo": "text",
         "marker": {
          "color": "rgb(255,220,0)"
         },
         "mode": "lines",
         "type": "scatter",
         "x": [
          0.2433683631361073,
          0.384756552366507,
          0.384756552366507,
          0.3478005823403336
         ],
         "xaxis": "x",
         "y": [
          -376.25,
          -376.25,
          -446.71875,
          -446.71875
         ],
         "yaxis": "y"
        },
        {
         "hoverinfo": "text",
         "marker": {
          "color": "rgb(255,220,0)"
         },
         "mode": "lines",
         "type": "scatter",
         "x": [
          0,
          0.17081487429367492,
          0.17081487429367492,
          0
         ],
         "xaxis": "x",
         "y": [
          -505,
          -505,
          -515,
          -515
         ],
         "yaxis": "y"
        },
        {
         "hoverinfo": "text",
         "marker": {
          "color": "rgb(255,220,0)"
         },
         "mode": "lines",
         "type": "scatter",
         "x": [
          0,
          0.1975240483620413,
          0.1975240483620413,
          0.17081487429367492
         ],
         "xaxis": "x",
         "y": [
          -495,
          -495,
          -510,
          -510
         ],
         "yaxis": "y"
        },
        {
         "hoverinfo": "text",
         "marker": {
          "color": "rgb(255,220,0)"
         },
         "mode": "lines",
         "type": "scatter",
         "x": [
          0.1975240483620413,
          0.2227430646851333,
          0.2227430646851333,
          0
         ],
         "xaxis": "x",
         "y": [
          -502.5,
          -502.5,
          -525,
          -525
         ],
         "yaxis": "y"
        },
        {
         "hoverinfo": "text",
         "marker": {
          "color": "rgb(255,220,0)"
         },
         "mode": "lines",
         "type": "scatter",
         "x": [
          0,
          0.3382702008689034,
          0.3382702008689034,
          0.2227430646851333
         ],
         "xaxis": "x",
         "y": [
          -485,
          -485,
          -513.75,
          -513.75
         ],
         "yaxis": "y"
        },
        {
         "hoverinfo": "text",
         "marker": {
          "color": "rgb(255,220,0)"
         },
         "mode": "lines",
         "type": "scatter",
         "x": [
          0,
          0.3588927044562227,
          0.3588927044562227,
          0
         ],
         "xaxis": "x",
         "y": [
          -535,
          -535,
          -545,
          -545
         ],
         "yaxis": "y"
        },
        {
         "hoverinfo": "text",
         "marker": {
          "color": "rgb(255,220,0)"
         },
         "mode": "lines",
         "type": "scatter",
         "x": [
          0.3382702008689034,
          0.39669993458641967,
          0.39669993458641967,
          0.3588927044562227
         ],
         "xaxis": "x",
         "y": [
          -499.375,
          -499.375,
          -540,
          -540
         ],
         "yaxis": "y"
        },
        {
         "hoverinfo": "text",
         "marker": {
          "color": "rgb(255,220,0)"
         },
         "mode": "lines",
         "type": "scatter",
         "x": [
          0.384756552366507,
          0.5099501390577836,
          0.5099501390577836,
          0.39669993458641967
         ],
         "xaxis": "x",
         "y": [
          -411.484375,
          -411.484375,
          -519.6875,
          -519.6875
         ],
         "yaxis": "y"
        },
        {
         "hoverinfo": "text",
         "marker": {
          "color": "rgb(255,220,0)"
         },
         "mode": "lines",
         "type": "scatter",
         "x": [
          0,
          0.5996460848255967,
          0.5996460848255967,
          0.5099501390577836
         ],
         "xaxis": "x",
         "y": [
          -345,
          -345,
          -465.5859375,
          -465.5859375
         ],
         "yaxis": "y"
        },
        {
         "hoverinfo": "text",
         "marker": {
          "color": "rgb(255,220,0)"
         },
         "mode": "lines",
         "type": "scatter",
         "x": [
          0.5996460848255967,
          0.6499512374407634,
          0.6499512374407634,
          0
         ],
         "xaxis": "x",
         "y": [
          -405.29296875,
          -405.29296875,
          -555,
          -555
         ],
         "yaxis": "y"
        },
        {
         "hoverinfo": "text",
         "marker": {
          "color": "rgb(255,220,0)"
         },
         "mode": "lines",
         "type": "scatter",
         "x": [
          0.6499512374407634,
          0.7406083319873568,
          0.7406083319873568,
          0
         ],
         "xaxis": "x",
         "y": [
          -480.146484375,
          -480.146484375,
          -565,
          -565
         ],
         "yaxis": "y"
        },
        {
         "hoverinfo": "text",
         "marker": {
          "color": "rgb(255,220,0)"
         },
         "mode": "lines",
         "type": "scatter",
         "x": [
          0.7025380924078772,
          0.8861729166735592,
          0.8861729166735592,
          0.7406083319873568
         ],
         "xaxis": "x",
         "y": [
          -294.0625,
          -294.0625,
          -522.5732421875,
          -522.5732421875
         ],
         "yaxis": "y"
        },
        {
         "hoverinfo": "text",
         "marker": {
          "color": "rgb(0,116,217)"
         },
         "mode": "lines",
         "type": "scatter",
         "x": [
          0.6217783261989873,
          1.0741599274191758,
          1.0741599274191758,
          0.8861729166735592
         ],
         "xaxis": "x",
         "y": [
          -257.5,
          -257.5,
          -408.31787109375,
          -408.31787109375
         ],
         "yaxis": "y"
        },
        {
         "hoverinfo": "text",
         "marker": {
          "color": "rgb(0,116,217)"
         },
         "mode": "lines",
         "type": "scatter",
         "x": [
          1.0408721635179694,
          3.371774762303628,
          3.371774762303628,
          1.0741599274191758
         ],
         "xaxis": "x",
         "y": [
          -156.6437530517578,
          -156.6437530517578,
          -332.908935546875,
          -332.908935546875
         ],
         "yaxis": "y"
        }
       ],
       "layout": {
        "autosize": false,
        "height": 1055,
        "hoverlabel": {
         "bgcolor": "white",
         "font": {
          "family": "Rockwell",
          "size": 16
         }
        },
        "hovermode": "closest",
        "plot_bgcolor": "#ECEFF1",
        "showlegend": false,
        "template": {
         "data": {
          "bar": [
           {
            "error_x": {
             "color": "#2a3f5f"
            },
            "error_y": {
             "color": "#2a3f5f"
            },
            "marker": {
             "line": {
              "color": "white",
              "width": 0.5
             },
             "pattern": {
              "fillmode": "overlay",
              "size": 10,
              "solidity": 0.2
             }
            },
            "type": "bar"
           }
          ],
          "barpolar": [
           {
            "marker": {
             "line": {
              "color": "white",
              "width": 0.5
             },
             "pattern": {
              "fillmode": "overlay",
              "size": 10,
              "solidity": 0.2
             }
            },
            "type": "barpolar"
           }
          ],
          "carpet": [
           {
            "aaxis": {
             "endlinecolor": "#2a3f5f",
             "gridcolor": "#C8D4E3",
             "linecolor": "#C8D4E3",
             "minorgridcolor": "#C8D4E3",
             "startlinecolor": "#2a3f5f"
            },
            "baxis": {
             "endlinecolor": "#2a3f5f",
             "gridcolor": "#C8D4E3",
             "linecolor": "#C8D4E3",
             "minorgridcolor": "#C8D4E3",
             "startlinecolor": "#2a3f5f"
            },
            "type": "carpet"
           }
          ],
          "choropleth": [
           {
            "colorbar": {
             "outlinewidth": 0,
             "ticks": ""
            },
            "type": "choropleth"
           }
          ],
          "contour": [
           {
            "colorbar": {
             "outlinewidth": 0,
             "ticks": ""
            },
            "colorscale": [
             [
              0,
              "#0d0887"
             ],
             [
              0.1111111111111111,
              "#46039f"
             ],
             [
              0.2222222222222222,
              "#7201a8"
             ],
             [
              0.3333333333333333,
              "#9c179e"
             ],
             [
              0.4444444444444444,
              "#bd3786"
             ],
             [
              0.5555555555555556,
              "#d8576b"
             ],
             [
              0.6666666666666666,
              "#ed7953"
             ],
             [
              0.7777777777777778,
              "#fb9f3a"
             ],
             [
              0.8888888888888888,
              "#fdca26"
             ],
             [
              1,
              "#f0f921"
             ]
            ],
            "type": "contour"
           }
          ],
          "contourcarpet": [
           {
            "colorbar": {
             "outlinewidth": 0,
             "ticks": ""
            },
            "type": "contourcarpet"
           }
          ],
          "heatmap": [
           {
            "colorbar": {
             "outlinewidth": 0,
             "ticks": ""
            },
            "colorscale": [
             [
              0,
              "#0d0887"
             ],
             [
              0.1111111111111111,
              "#46039f"
             ],
             [
              0.2222222222222222,
              "#7201a8"
             ],
             [
              0.3333333333333333,
              "#9c179e"
             ],
             [
              0.4444444444444444,
              "#bd3786"
             ],
             [
              0.5555555555555556,
              "#d8576b"
             ],
             [
              0.6666666666666666,
              "#ed7953"
             ],
             [
              0.7777777777777778,
              "#fb9f3a"
             ],
             [
              0.8888888888888888,
              "#fdca26"
             ],
             [
              1,
              "#f0f921"
             ]
            ],
            "type": "heatmap"
           }
          ],
          "heatmapgl": [
           {
            "colorbar": {
             "outlinewidth": 0,
             "ticks": ""
            },
            "colorscale": [
             [
              0,
              "#0d0887"
             ],
             [
              0.1111111111111111,
              "#46039f"
             ],
             [
              0.2222222222222222,
              "#7201a8"
             ],
             [
              0.3333333333333333,
              "#9c179e"
             ],
             [
              0.4444444444444444,
              "#bd3786"
             ],
             [
              0.5555555555555556,
              "#d8576b"
             ],
             [
              0.6666666666666666,
              "#ed7953"
             ],
             [
              0.7777777777777778,
              "#fb9f3a"
             ],
             [
              0.8888888888888888,
              "#fdca26"
             ],
             [
              1,
              "#f0f921"
             ]
            ],
            "type": "heatmapgl"
           }
          ],
          "histogram": [
           {
            "marker": {
             "pattern": {
              "fillmode": "overlay",
              "size": 10,
              "solidity": 0.2
             }
            },
            "type": "histogram"
           }
          ],
          "histogram2d": [
           {
            "colorbar": {
             "outlinewidth": 0,
             "ticks": ""
            },
            "colorscale": [
             [
              0,
              "#0d0887"
             ],
             [
              0.1111111111111111,
              "#46039f"
             ],
             [
              0.2222222222222222,
              "#7201a8"
             ],
             [
              0.3333333333333333,
              "#9c179e"
             ],
             [
              0.4444444444444444,
              "#bd3786"
             ],
             [
              0.5555555555555556,
              "#d8576b"
             ],
             [
              0.6666666666666666,
              "#ed7953"
             ],
             [
              0.7777777777777778,
              "#fb9f3a"
             ],
             [
              0.8888888888888888,
              "#fdca26"
             ],
             [
              1,
              "#f0f921"
             ]
            ],
            "type": "histogram2d"
           }
          ],
          "histogram2dcontour": [
           {
            "colorbar": {
             "outlinewidth": 0,
             "ticks": ""
            },
            "colorscale": [
             [
              0,
              "#0d0887"
             ],
             [
              0.1111111111111111,
              "#46039f"
             ],
             [
              0.2222222222222222,
              "#7201a8"
             ],
             [
              0.3333333333333333,
              "#9c179e"
             ],
             [
              0.4444444444444444,
              "#bd3786"
             ],
             [
              0.5555555555555556,
              "#d8576b"
             ],
             [
              0.6666666666666666,
              "#ed7953"
             ],
             [
              0.7777777777777778,
              "#fb9f3a"
             ],
             [
              0.8888888888888888,
              "#fdca26"
             ],
             [
              1,
              "#f0f921"
             ]
            ],
            "type": "histogram2dcontour"
           }
          ],
          "mesh3d": [
           {
            "colorbar": {
             "outlinewidth": 0,
             "ticks": ""
            },
            "type": "mesh3d"
           }
          ],
          "parcoords": [
           {
            "line": {
             "colorbar": {
              "outlinewidth": 0,
              "ticks": ""
             }
            },
            "type": "parcoords"
           }
          ],
          "pie": [
           {
            "automargin": true,
            "type": "pie"
           }
          ],
          "scatter": [
           {
            "fillpattern": {
             "fillmode": "overlay",
             "size": 10,
             "solidity": 0.2
            },
            "type": "scatter"
           }
          ],
          "scatter3d": [
           {
            "line": {
             "colorbar": {
              "outlinewidth": 0,
              "ticks": ""
             }
            },
            "marker": {
             "colorbar": {
              "outlinewidth": 0,
              "ticks": ""
             }
            },
            "type": "scatter3d"
           }
          ],
          "scattercarpet": [
           {
            "marker": {
             "colorbar": {
              "outlinewidth": 0,
              "ticks": ""
             }
            },
            "type": "scattercarpet"
           }
          ],
          "scattergeo": [
           {
            "marker": {
             "colorbar": {
              "outlinewidth": 0,
              "ticks": ""
             }
            },
            "type": "scattergeo"
           }
          ],
          "scattergl": [
           {
            "marker": {
             "colorbar": {
              "outlinewidth": 0,
              "ticks": ""
             }
            },
            "type": "scattergl"
           }
          ],
          "scattermapbox": [
           {
            "marker": {
             "colorbar": {
              "outlinewidth": 0,
              "ticks": ""
             }
            },
            "type": "scattermapbox"
           }
          ],
          "scatterpolar": [
           {
            "marker": {
             "colorbar": {
              "outlinewidth": 0,
              "ticks": ""
             }
            },
            "type": "scatterpolar"
           }
          ],
          "scatterpolargl": [
           {
            "marker": {
             "colorbar": {
              "outlinewidth": 0,
              "ticks": ""
             }
            },
            "type": "scatterpolargl"
           }
          ],
          "scatterternary": [
           {
            "marker": {
             "colorbar": {
              "outlinewidth": 0,
              "ticks": ""
             }
            },
            "type": "scatterternary"
           }
          ],
          "surface": [
           {
            "colorbar": {
             "outlinewidth": 0,
             "ticks": ""
            },
            "colorscale": [
             [
              0,
              "#0d0887"
             ],
             [
              0.1111111111111111,
              "#46039f"
             ],
             [
              0.2222222222222222,
              "#7201a8"
             ],
             [
              0.3333333333333333,
              "#9c179e"
             ],
             [
              0.4444444444444444,
              "#bd3786"
             ],
             [
              0.5555555555555556,
              "#d8576b"
             ],
             [
              0.6666666666666666,
              "#ed7953"
             ],
             [
              0.7777777777777778,
              "#fb9f3a"
             ],
             [
              0.8888888888888888,
              "#fdca26"
             ],
             [
              1,
              "#f0f921"
             ]
            ],
            "type": "surface"
           }
          ],
          "table": [
           {
            "cells": {
             "fill": {
              "color": "#EBF0F8"
             },
             "line": {
              "color": "white"
             }
            },
            "header": {
             "fill": {
              "color": "#C8D4E3"
             },
             "line": {
              "color": "white"
             }
            },
            "type": "table"
           }
          ]
         },
         "layout": {
          "annotationdefaults": {
           "arrowcolor": "#2a3f5f",
           "arrowhead": 0,
           "arrowwidth": 1
          },
          "autotypenumbers": "strict",
          "coloraxis": {
           "colorbar": {
            "outlinewidth": 0,
            "ticks": ""
           }
          },
          "colorscale": {
           "diverging": [
            [
             0,
             "#8e0152"
            ],
            [
             0.1,
             "#c51b7d"
            ],
            [
             0.2,
             "#de77ae"
            ],
            [
             0.3,
             "#f1b6da"
            ],
            [
             0.4,
             "#fde0ef"
            ],
            [
             0.5,
             "#f7f7f7"
            ],
            [
             0.6,
             "#e6f5d0"
            ],
            [
             0.7,
             "#b8e186"
            ],
            [
             0.8,
             "#7fbc41"
            ],
            [
             0.9,
             "#4d9221"
            ],
            [
             1,
             "#276419"
            ]
           ],
           "sequential": [
            [
             0,
             "#0d0887"
            ],
            [
             0.1111111111111111,
             "#46039f"
            ],
            [
             0.2222222222222222,
             "#7201a8"
            ],
            [
             0.3333333333333333,
             "#9c179e"
            ],
            [
             0.4444444444444444,
             "#bd3786"
            ],
            [
             0.5555555555555556,
             "#d8576b"
            ],
            [
             0.6666666666666666,
             "#ed7953"
            ],
            [
             0.7777777777777778,
             "#fb9f3a"
            ],
            [
             0.8888888888888888,
             "#fdca26"
            ],
            [
             1,
             "#f0f921"
            ]
           ],
           "sequentialminus": [
            [
             0,
             "#0d0887"
            ],
            [
             0.1111111111111111,
             "#46039f"
            ],
            [
             0.2222222222222222,
             "#7201a8"
            ],
            [
             0.3333333333333333,
             "#9c179e"
            ],
            [
             0.4444444444444444,
             "#bd3786"
            ],
            [
             0.5555555555555556,
             "#d8576b"
            ],
            [
             0.6666666666666666,
             "#ed7953"
            ],
            [
             0.7777777777777778,
             "#fb9f3a"
            ],
            [
             0.8888888888888888,
             "#fdca26"
            ],
            [
             1,
             "#f0f921"
            ]
           ]
          },
          "colorway": [
           "#636efa",
           "#EF553B",
           "#00cc96",
           "#ab63fa",
           "#FFA15A",
           "#19d3f3",
           "#FF6692",
           "#B6E880",
           "#FF97FF",
           "#FECB52"
          ],
          "font": {
           "color": "#2a3f5f"
          },
          "geo": {
           "bgcolor": "white",
           "lakecolor": "white",
           "landcolor": "white",
           "showlakes": true,
           "showland": true,
           "subunitcolor": "#C8D4E3"
          },
          "hoverlabel": {
           "align": "left"
          },
          "hovermode": "closest",
          "mapbox": {
           "style": "light"
          },
          "paper_bgcolor": "white",
          "plot_bgcolor": "white",
          "polar": {
           "angularaxis": {
            "gridcolor": "#EBF0F8",
            "linecolor": "#EBF0F8",
            "ticks": ""
           },
           "bgcolor": "white",
           "radialaxis": {
            "gridcolor": "#EBF0F8",
            "linecolor": "#EBF0F8",
            "ticks": ""
           }
          },
          "scene": {
           "xaxis": {
            "backgroundcolor": "white",
            "gridcolor": "#DFE8F3",
            "gridwidth": 2,
            "linecolor": "#EBF0F8",
            "showbackground": true,
            "ticks": "",
            "zerolinecolor": "#EBF0F8"
           },
           "yaxis": {
            "backgroundcolor": "white",
            "gridcolor": "#DFE8F3",
            "gridwidth": 2,
            "linecolor": "#EBF0F8",
            "showbackground": true,
            "ticks": "",
            "zerolinecolor": "#EBF0F8"
           },
           "zaxis": {
            "backgroundcolor": "white",
            "gridcolor": "#DFE8F3",
            "gridwidth": 2,
            "linecolor": "#EBF0F8",
            "showbackground": true,
            "ticks": "",
            "zerolinecolor": "#EBF0F8"
           }
          },
          "shapedefaults": {
           "line": {
            "color": "#2a3f5f"
           }
          },
          "ternary": {
           "aaxis": {
            "gridcolor": "#DFE8F3",
            "linecolor": "#A2B1C6",
            "ticks": ""
           },
           "baxis": {
            "gridcolor": "#DFE8F3",
            "linecolor": "#A2B1C6",
            "ticks": ""
           },
           "bgcolor": "white",
           "caxis": {
            "gridcolor": "#DFE8F3",
            "linecolor": "#A2B1C6",
            "ticks": ""
           }
          },
          "title": {
           "x": 0.05
          },
          "xaxis": {
           "automargin": true,
           "gridcolor": "#EBF0F8",
           "linecolor": "#EBF0F8",
           "ticks": "",
           "title": {
            "standoff": 15
           },
           "zerolinecolor": "#EBF0F8",
           "zerolinewidth": 2
          },
          "yaxis": {
           "automargin": true,
           "gridcolor": "#EBF0F8",
           "linecolor": "#EBF0F8",
           "ticks": "",
           "title": {
            "standoff": 15
           },
           "zerolinecolor": "#EBF0F8",
           "zerolinewidth": 2
          }
         }
        },
        "title": {
         "font": {
          "color": "Black",
          "size": 22
         },
         "text": "<b>Hierarchical Clustering</b>",
         "x": 0.5,
         "xanchor": "center",
         "yanchor": "top"
        },
        "width": 1000,
        "xaxis": {
         "mirror": "allticks",
         "rangemode": "tozero",
         "showgrid": false,
         "showline": true,
         "showticklabels": true,
         "ticks": "outside",
         "type": "linear",
         "zeroline": false
        },
        "yaxis": {
         "mirror": "allticks",
         "range": [
          -570,
          0
         ],
         "rangemode": "tozero",
         "showgrid": false,
         "showline": true,
         "showticklabels": true,
         "tickmode": "array",
         "ticks": "outside",
         "ticktext": [
          "56___",
          "52___",
          "51___",
          "49___",
          "45___",
          "43___",
          "40___",
          "36___",
          "34___",
          "31___",
          "32___",
          "33___",
          "35___",
          "39___",
          "27___",
          "26___",
          "17___",
          "30___",
          "41___",
          "44___",
          "48___",
          "50___",
          "23_vol2_vol_l2",
          "7_barrington_dublin_cottage",
          "29_cousins_shackleton_famil...",
          "55_thee_thou_thy",
          "20_sisters_sister_dear",
          "37_banbridge_hope_night",
          "22_sail_evening_belfast",
          "6_eliza_thee_thou",
          "15_1847_dresden_arrived",
          "0_friday_papa_thursday",
          "1_meeting_met_evening",
          "24_dream_beheld_awoke",
          "9_thee_thou_grief",
          "18_shackleton_thee_thou",
          "2_thou_thee_shall",
          "25_thou_dublin_spirits",
          "42_cousin_peggy_meeting",
          "16_waterford_uncle_shall",
          "13_dublin_cork_thee",
          "14_thee_dear_letter",
          "8_thou_thee_dear",
          "10_clonmel_thou_thee",
          "21_thou_thee_thy",
          "54_letter_aunt_thee",
          "5_cousin_family_selby",
          "38_abigail_mills_anner",
          "46_1818_letter_lydia",
          "3_thou_thee_letter",
          "12_letter_ballitore_aunt",
          "11_thee_deborah_letter",
          "19_fever_doctor_letter",
          "4_bond_letter_dublin",
          "28_poem_poems_lisburn",
          "53_willy_1826_willie",
          "47_grandfather_letter_uncle"
         ],
         "tickvals": [
          -5,
          -15,
          -25,
          -35,
          -45,
          -55,
          -65,
          -75,
          -85,
          -95,
          -105,
          -115,
          -125,
          -135,
          -145,
          -155,
          -165,
          -175,
          -185,
          -195,
          -205,
          -215,
          -225,
          -235,
          -245,
          -255,
          -265,
          -275,
          -285,
          -295,
          -305,
          -315,
          -325,
          -335,
          -345,
          -355,
          -365,
          -375,
          -385,
          -395,
          -405,
          -415,
          -425,
          -435,
          -445,
          -455,
          -465,
          -475,
          -485,
          -495,
          -505,
          -515,
          -525,
          -535,
          -545,
          -555,
          -565
         ],
         "type": "linear",
         "zeroline": false
        }
       }
      }
     },
     "metadata": {},
     "output_type": "display_data"
    }
   ],
   "source": [
    "tm2.mdl.visualize_hierarchy()"
   ]
  },
  {
   "cell_type": "code",
   "execution_count": null,
   "metadata": {},
   "outputs": [],
   "source": []
  }
 ],
 "metadata": {
  "kernelspec": {
   "display_name": "venv",
   "language": "python",
   "name": "python3"
  },
  "language_info": {
   "codemirror_mode": {
    "name": "ipython",
    "version": 3
   },
   "file_extension": ".py",
   "mimetype": "text/x-python",
   "name": "python",
   "nbconvert_exporter": "python",
   "pygments_lexer": "ipython3",
   "version": "3.10.7"
  }
 },
 "nbformat": 4,
 "nbformat_minor": 2
}
