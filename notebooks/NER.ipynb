{
 "cells": [
  {
   "cell_type": "markdown",
   "metadata": {},
   "source": [
    "# Named entity recognition"
   ]
  },
  {
   "cell_type": "code",
   "execution_count": 1,
   "metadata": {},
   "outputs": [],
   "source": [
    "import sys\n",
    "sys.path.append('..')\n",
    "from ballitoreproject import *\n",
    "from ballitoreproject.geography import *"
   ]
  },
  {
   "cell_type": "code",
   "execution_count": 2,
   "metadata": {},
   "outputs": [
    {
     "data": {
      "text/plain": [
       "<spacy.lang.en.English at 0x2869a5ea0>"
      ]
     },
     "execution_count": 2,
     "metadata": {},
     "output_type": "execute_result"
    }
   ],
   "source": [
    "import spacy\n",
    "nlp = spacy.load(\"en_core_web_sm\")\n",
    "nlp"
   ]
  },
  {
   "cell_type": "code",
   "execution_count": 3,
   "metadata": {},
   "outputs": [
    {
     "data": {
      "text/plain": [
       "This will be handed thee I suppose by Cd Morgan who intends for Clonmel tomorrow"
      ]
     },
     "execution_count": 3,
     "metadata": {},
     "output_type": "execute_result"
    }
   ],
   "source": [
    "sent = 'This will be handed thee I suppose by Cd Morgan who intends for Clonmel tomorrow'\n",
    "doc = nlp(sent)\n",
    "doc"
   ]
  },
  {
   "cell_type": "code",
   "execution_count": 4,
   "metadata": {},
   "outputs": [
    {
     "name": "stdout",
     "output_type": "stream",
     "text": [
      "Cd Morgan PERSON\n",
      "Clonmel GPE\n",
      "tomorrow DATE\n"
     ]
    }
   ],
   "source": [
    "for ent in doc.ents:\n",
    "    print(ent.text, ent.label_)"
   ]
  },
  {
   "cell_type": "code",
   "execution_count": 5,
   "metadata": {},
   "outputs": [
    {
     "data": {
      "text/plain": [
       "['Clonmel']"
      ]
     },
     "execution_count": 5,
     "metadata": {},
     "output_type": "execute_result"
    }
   ],
   "source": [
    "def get_places(text):\n",
    "    doc = nlp(text)\n",
    "    return [ent.text for ent in doc.ents if ent.label_=='GPE']\n",
    "\n",
    "get_places(sent)"
   ]
  },
  {
   "cell_type": "code",
   "execution_count": 8,
   "metadata": {},
   "outputs": [],
   "source": [
    "df_smpl = get_data()"
   ]
  },
  {
   "cell_type": "code",
   "execution_count": 9,
   "metadata": {},
   "outputs": [
    {
     "name": "stderr",
     "output_type": "stream",
     "text": [
      "Reading txt files: 100%|██████████| 4080/4080 [00:00<00:00, 9931.26it/s]\n",
      "100%|██████████| 4560/4560 [00:04<00:00, 1011.18it/s]\n"
     ]
    },
    {
     "data": {
      "text/plain": [
       "id\n",
       "mss4-b1-f7-001-176                                          []\n",
       "mss4-b1-f3-005                                              []\n",
       "mss4-b1-f7-001-3                                            []\n",
       "mss4-b1-f3-005-006                                        [us]\n",
       "mss4-b1-f7-001-15                                           []\n",
       "                                          ...                 \n",
       "consensus_text_90345943                         [Margt, Lilia]\n",
       "consensus_text_90345944                        [Margt, Selina]\n",
       "consensus_text_90345945    [Selina, Mrs Rigbys, Selina, Margt]\n",
       "consensus_text_90345946               [Margt, Rotunda, Selina]\n",
       "consensus_text_90345947                                     []\n",
       "Name: places, Length: 4560, dtype: object"
      ]
     },
     "execution_count": 9,
     "metadata": {},
     "output_type": "execute_result"
    }
   ],
   "source": [
    "df_smpl['places']=[get_named_places_for_id(id) for id in tqdm(df_smpl.index)]\n",
    "df_smpl['places']"
   ]
  },
  {
   "cell_type": "code",
   "execution_count": 11,
   "metadata": {},
   "outputs": [
    {
     "data": {
      "text/plain": [
       "Dublin        943\n",
       "London        511\n",
       "Margt         420\n",
       "Ireland       390\n",
       "Cousin        279\n",
       "England       247\n",
       "Clonmel       202\n",
       "Waterford     183\n",
       "Britain       149\n",
       "America       131\n",
       "Belfast       112\n",
       "SB             86\n",
       "Scotland       84\n",
       "Providence     81\n",
       "Debby          78\n",
       "Paris          74\n",
       "Lydia          71\n",
       "Limerick       71\n",
       "Molly          70\n",
       "Selina         66\n",
       "Liverpool      66\n",
       "Richmond       64\n",
       "P.S.           61\n",
       "Kingstown      57\n",
       "Edinburgh      56\n",
       "Name: count, dtype: int64"
      ]
     },
     "execution_count": 11,
     "metadata": {},
     "output_type": "execute_result"
    }
   ],
   "source": [
    "all_places = pd.Series(place for places in df_smpl.places for place in places).value_counts()\n",
    "all_places.head(25)"
   ]
  },
  {
   "cell_type": "code",
   "execution_count": null,
   "metadata": {},
   "outputs": [],
   "source": [
    "# !pip install geopy\n",
    "from geopy.geocoders import Nominatim\n",
    "geolocator = Nominatim(user_agent=\"ballitoreproject\")"
   ]
  },
  {
   "cell_type": "code",
   "execution_count": null,
   "metadata": {},
   "outputs": [],
   "source": [
    "loc=geolocator.geocode('Clonmel')\n",
    "loc"
   ]
  },
  {
   "cell_type": "code",
   "execution_count": null,
   "metadata": {},
   "outputs": [],
   "source": [
    "loc.raw"
   ]
  },
  {
   "cell_type": "code",
   "execution_count": null,
   "metadata": {},
   "outputs": [],
   "source": [
    "geolocator.geocode('Clonmel', exactly_one=False)"
   ]
  },
  {
   "cell_type": "markdown",
   "metadata": {},
   "source": []
  },
  {
   "cell_type": "code",
   "execution_count": null,
   "metadata": {},
   "outputs": [],
   "source": [
    "geolocator.geocode('Waterford', exactly_one=False)"
   ]
  },
  {
   "cell_type": "code",
   "execution_count": null,
   "metadata": {},
   "outputs": [],
   "source": [
    "# !pip install diskcache"
   ]
  },
  {
   "cell_type": "code",
   "execution_count": null,
   "metadata": {},
   "outputs": [],
   "source": []
  },
  {
   "cell_type": "code",
   "execution_count": null,
   "metadata": {},
   "outputs": [],
   "source": [
    "import diskcache as dc\n",
    "cache_obj = dc.Cache(os.path.join(PATH_DATA,'geocache'))\n",
    "\n",
    "@cache_obj.memoize()\n",
    "def get_place_data(placename):\n",
    "    loc = geolocator.geocode(placename)\n",
    "    if not loc: return {}\n",
    "    outd = {**loc.raw}\n",
    "    outd['lat']=float(outd['lat'])\n",
    "    outd['lon']=float(outd['lon'])\n",
    "    return outd\n",
    "\n",
    "get_place_data('Clonmel')"
   ]
  },
  {
   "cell_type": "code",
   "execution_count": null,
   "metadata": {},
   "outputs": [],
   "source": [
    "# places_ld=[]\n",
    "# for place,count in tqdm(list(all_places.items())):\n",
    "#     place_d={'place':place, 'count':count, **get_place_data(place)}\n",
    "#     places_ld.append(place_d)\n",
    "# places_df=pd.DataFrame(places_ld).dropna()\n",
    "# places_df"
   ]
  },
  {
   "cell_type": "code",
   "execution_count": null,
   "metadata": {},
   "outputs": [],
   "source": [
    "# !pip install folium"
   ]
  },
  {
   "cell_type": "code",
   "execution_count": null,
   "metadata": {},
   "outputs": [],
   "source": [
    "import pandas as pd\n",
    "import folium\n",
    "\n",
    "def create_map_with_markers(df):\n",
    "    \"\"\"\n",
    "    Creates a folium map with markers sized proportionally to the count values in the DataFrame.\n",
    "    \n",
    "    Parameters:\n",
    "    df (pd.DataFrame): DataFrame containing 'place', 'count', 'lat', 'lon' columns.\n",
    "    \n",
    "    Returns:\n",
    "    folium.Map: Interactive map with markers.\n",
    "    \"\"\"\n",
    "    # Create a folium map centered around the mean latitude and longitude\n",
    "    map_center = [df['lat'].mean(), df['lon'].mean()]\n",
    "    fmap = folium.Map(location=map_center, zoom_start=2)\n",
    "\n",
    "    # Define a function to scale the marker sizes\n",
    "    def scale_size(count, min_count, max_count, min_size=3, max_size=15):\n",
    "        return ((count - min_count) / (max_count - min_count)) * (max_size - min_size) + min_size\n",
    "\n",
    "    # Get min and max count values for scaling\n",
    "    min_count = df['count'].min()\n",
    "    max_count = df['count'].max()\n",
    "\n",
    "    # Add markers to the map\n",
    "    for _, row in df.iterrows():\n",
    "        marker_size = scale_size(row['count'], min_count, max_count)\n",
    "        folium.CircleMarker(\n",
    "            location=(row['lat'], row['lon']),\n",
    "            radius=marker_size,\n",
    "            popup=f\"{row['place']}: {row['count']}\",\n",
    "            color='blue',\n",
    "            fill=True,\n",
    "            fill_color='blue'\n",
    "        ).add_to(fmap)\n",
    "\n",
    "    return fmap\n",
    "\n",
    "fmap = create_map_with_markers(places_df)\n",
    "fmap\n"
   ]
  },
  {
   "cell_type": "code",
   "execution_count": null,
   "metadata": {},
   "outputs": [],
   "source": []
  }
 ],
 "metadata": {
  "kernelspec": {
   "display_name": "venv",
   "language": "python",
   "name": "python3"
  },
  "language_info": {
   "codemirror_mode": {
    "name": "ipython",
    "version": 3
   },
   "file_extension": ".py",
   "mimetype": "text/x-python",
   "name": "python",
   "nbconvert_exporter": "python",
   "pygments_lexer": "ipython3",
   "version": "3.10.7"
  }
 },
 "nbformat": 4,
 "nbformat_minor": 2
}
