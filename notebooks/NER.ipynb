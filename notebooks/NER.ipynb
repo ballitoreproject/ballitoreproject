{
 "cells": [
  {
   "cell_type": "markdown",
   "metadata": {},
   "source": [
    "# Named entity recognition"
   ]
  },
  {
   "cell_type": "code",
   "execution_count": 14,
   "metadata": {},
   "outputs": [],
   "source": [
    "import sys\n",
    "sys.path.append('..')\n",
    "from ballitoreproject import *\n",
    "from ballitoreproject.geography import *"
   ]
  },
  {
   "cell_type": "code",
   "execution_count": 21,
   "metadata": {},
   "outputs": [
    {
     "name": "stdout",
     "output_type": "stream",
     "text": [
      "Collecting en-core-web-sm==3.7.1\n",
      "  Using cached https://github.com/explosion/spacy-models/releases/download/en_core_web_sm-3.7.1/en_core_web_sm-3.7.1-py3-none-any.whl (12.8 MB)\n",
      "Requirement already satisfied: spacy<3.8.0,>=3.7.2 in /Users/ryan/github/ballitoreproject/venv/lib/python3.10/site-packages (from en-core-web-sm==3.7.1) (3.7.5)\n",
      "Requirement already satisfied: spacy-legacy<3.1.0,>=3.0.11 in /Users/ryan/github/ballitoreproject/venv/lib/python3.10/site-packages (from spacy<3.8.0,>=3.7.2->en-core-web-sm==3.7.1) (3.0.12)\n",
      "Requirement already satisfied: spacy-loggers<2.0.0,>=1.0.0 in /Users/ryan/github/ballitoreproject/venv/lib/python3.10/site-packages (from spacy<3.8.0,>=3.7.2->en-core-web-sm==3.7.1) (1.0.5)\n",
      "Requirement already satisfied: murmurhash<1.1.0,>=0.28.0 in /Users/ryan/github/ballitoreproject/venv/lib/python3.10/site-packages (from spacy<3.8.0,>=3.7.2->en-core-web-sm==3.7.1) (1.0.10)\n",
      "Requirement already satisfied: cymem<2.1.0,>=2.0.2 in /Users/ryan/github/ballitoreproject/venv/lib/python3.10/site-packages (from spacy<3.8.0,>=3.7.2->en-core-web-sm==3.7.1) (2.0.8)\n",
      "Requirement already satisfied: preshed<3.1.0,>=3.0.2 in /Users/ryan/github/ballitoreproject/venv/lib/python3.10/site-packages (from spacy<3.8.0,>=3.7.2->en-core-web-sm==3.7.1) (3.0.9)\n",
      "Requirement already satisfied: thinc<8.3.0,>=8.2.2 in /Users/ryan/github/ballitoreproject/venv/lib/python3.10/site-packages (from spacy<3.8.0,>=3.7.2->en-core-web-sm==3.7.1) (8.2.5)\n",
      "Requirement already satisfied: wasabi<1.2.0,>=0.9.1 in /Users/ryan/github/ballitoreproject/venv/lib/python3.10/site-packages (from spacy<3.8.0,>=3.7.2->en-core-web-sm==3.7.1) (1.1.3)\n",
      "Requirement already satisfied: srsly<3.0.0,>=2.4.3 in /Users/ryan/github/ballitoreproject/venv/lib/python3.10/site-packages (from spacy<3.8.0,>=3.7.2->en-core-web-sm==3.7.1) (2.4.8)\n",
      "Requirement already satisfied: catalogue<2.1.0,>=2.0.6 in /Users/ryan/github/ballitoreproject/venv/lib/python3.10/site-packages (from spacy<3.8.0,>=3.7.2->en-core-web-sm==3.7.1) (2.0.10)\n",
      "Requirement already satisfied: weasel<0.5.0,>=0.1.0 in /Users/ryan/github/ballitoreproject/venv/lib/python3.10/site-packages (from spacy<3.8.0,>=3.7.2->en-core-web-sm==3.7.1) (0.4.1)\n",
      "Requirement already satisfied: typer<1.0.0,>=0.3.0 in /Users/ryan/github/ballitoreproject/venv/lib/python3.10/site-packages (from spacy<3.8.0,>=3.7.2->en-core-web-sm==3.7.1) (0.12.3)\n",
      "Requirement already satisfied: tqdm<5.0.0,>=4.38.0 in /Users/ryan/github/ballitoreproject/venv/lib/python3.10/site-packages (from spacy<3.8.0,>=3.7.2->en-core-web-sm==3.7.1) (4.66.4)\n",
      "Requirement already satisfied: requests<3.0.0,>=2.13.0 in /Users/ryan/github/ballitoreproject/venv/lib/python3.10/site-packages (from spacy<3.8.0,>=3.7.2->en-core-web-sm==3.7.1) (2.32.3)\n",
      "Requirement already satisfied: pydantic!=1.8,!=1.8.1,<3.0.0,>=1.7.4 in /Users/ryan/github/ballitoreproject/venv/lib/python3.10/site-packages (from spacy<3.8.0,>=3.7.2->en-core-web-sm==3.7.1) (2.8.2)\n",
      "Requirement already satisfied: jinja2 in /Users/ryan/github/ballitoreproject/venv/lib/python3.10/site-packages (from spacy<3.8.0,>=3.7.2->en-core-web-sm==3.7.1) (3.1.4)\n",
      "Requirement already satisfied: setuptools in /Users/ryan/github/ballitoreproject/venv/lib/python3.10/site-packages (from spacy<3.8.0,>=3.7.2->en-core-web-sm==3.7.1) (63.2.0)\n",
      "Requirement already satisfied: packaging>=20.0 in /Users/ryan/github/ballitoreproject/venv/lib/python3.10/site-packages (from spacy<3.8.0,>=3.7.2->en-core-web-sm==3.7.1) (24.1)\n",
      "Requirement already satisfied: langcodes<4.0.0,>=3.2.0 in /Users/ryan/github/ballitoreproject/venv/lib/python3.10/site-packages (from spacy<3.8.0,>=3.7.2->en-core-web-sm==3.7.1) (3.4.0)\n",
      "Requirement already satisfied: numpy>=1.19.0 in /Users/ryan/github/ballitoreproject/venv/lib/python3.10/site-packages (from spacy<3.8.0,>=3.7.2->en-core-web-sm==3.7.1) (1.26.4)\n",
      "Requirement already satisfied: language-data>=1.2 in /Users/ryan/github/ballitoreproject/venv/lib/python3.10/site-packages (from langcodes<4.0.0,>=3.2.0->spacy<3.8.0,>=3.7.2->en-core-web-sm==3.7.1) (1.2.0)\n",
      "Requirement already satisfied: annotated-types>=0.4.0 in /Users/ryan/github/ballitoreproject/venv/lib/python3.10/site-packages (from pydantic!=1.8,!=1.8.1,<3.0.0,>=1.7.4->spacy<3.8.0,>=3.7.2->en-core-web-sm==3.7.1) (0.7.0)\n",
      "Requirement already satisfied: pydantic-core==2.20.1 in /Users/ryan/github/ballitoreproject/venv/lib/python3.10/site-packages (from pydantic!=1.8,!=1.8.1,<3.0.0,>=1.7.4->spacy<3.8.0,>=3.7.2->en-core-web-sm==3.7.1) (2.20.1)\n",
      "Requirement already satisfied: typing-extensions>=4.6.1 in /Users/ryan/github/ballitoreproject/venv/lib/python3.10/site-packages (from pydantic!=1.8,!=1.8.1,<3.0.0,>=1.7.4->spacy<3.8.0,>=3.7.2->en-core-web-sm==3.7.1) (4.12.2)\n",
      "Requirement already satisfied: charset-normalizer<4,>=2 in /Users/ryan/github/ballitoreproject/venv/lib/python3.10/site-packages (from requests<3.0.0,>=2.13.0->spacy<3.8.0,>=3.7.2->en-core-web-sm==3.7.1) (3.3.2)\n",
      "Requirement already satisfied: idna<4,>=2.5 in /Users/ryan/github/ballitoreproject/venv/lib/python3.10/site-packages (from requests<3.0.0,>=2.13.0->spacy<3.8.0,>=3.7.2->en-core-web-sm==3.7.1) (3.7)\n",
      "Requirement already satisfied: urllib3<3,>=1.21.1 in /Users/ryan/github/ballitoreproject/venv/lib/python3.10/site-packages (from requests<3.0.0,>=2.13.0->spacy<3.8.0,>=3.7.2->en-core-web-sm==3.7.1) (2.2.2)\n",
      "Requirement already satisfied: certifi>=2017.4.17 in /Users/ryan/github/ballitoreproject/venv/lib/python3.10/site-packages (from requests<3.0.0,>=2.13.0->spacy<3.8.0,>=3.7.2->en-core-web-sm==3.7.1) (2024.7.4)\n",
      "Requirement already satisfied: blis<0.8.0,>=0.7.8 in /Users/ryan/github/ballitoreproject/venv/lib/python3.10/site-packages (from thinc<8.3.0,>=8.2.2->spacy<3.8.0,>=3.7.2->en-core-web-sm==3.7.1) (0.7.11)\n",
      "Requirement already satisfied: confection<1.0.0,>=0.0.1 in /Users/ryan/github/ballitoreproject/venv/lib/python3.10/site-packages (from thinc<8.3.0,>=8.2.2->spacy<3.8.0,>=3.7.2->en-core-web-sm==3.7.1) (0.1.5)\n",
      "Requirement already satisfied: click>=8.0.0 in /Users/ryan/github/ballitoreproject/venv/lib/python3.10/site-packages (from typer<1.0.0,>=0.3.0->spacy<3.8.0,>=3.7.2->en-core-web-sm==3.7.1) (8.1.7)\n",
      "Requirement already satisfied: shellingham>=1.3.0 in /Users/ryan/github/ballitoreproject/venv/lib/python3.10/site-packages (from typer<1.0.0,>=0.3.0->spacy<3.8.0,>=3.7.2->en-core-web-sm==3.7.1) (1.5.4)\n",
      "Requirement already satisfied: rich>=10.11.0 in /Users/ryan/github/ballitoreproject/venv/lib/python3.10/site-packages (from typer<1.0.0,>=0.3.0->spacy<3.8.0,>=3.7.2->en-core-web-sm==3.7.1) (13.7.1)\n",
      "Requirement already satisfied: cloudpathlib<1.0.0,>=0.7.0 in /Users/ryan/github/ballitoreproject/venv/lib/python3.10/site-packages (from weasel<0.5.0,>=0.1.0->spacy<3.8.0,>=3.7.2->en-core-web-sm==3.7.1) (0.18.1)\n",
      "Requirement already satisfied: smart-open<8.0.0,>=5.2.1 in /Users/ryan/github/ballitoreproject/venv/lib/python3.10/site-packages (from weasel<0.5.0,>=0.1.0->spacy<3.8.0,>=3.7.2->en-core-web-sm==3.7.1) (7.0.4)\n",
      "Requirement already satisfied: MarkupSafe>=2.0 in /Users/ryan/github/ballitoreproject/venv/lib/python3.10/site-packages (from jinja2->spacy<3.8.0,>=3.7.2->en-core-web-sm==3.7.1) (2.1.5)\n",
      "Requirement already satisfied: marisa-trie>=0.7.7 in /Users/ryan/github/ballitoreproject/venv/lib/python3.10/site-packages (from language-data>=1.2->langcodes<4.0.0,>=3.2.0->spacy<3.8.0,>=3.7.2->en-core-web-sm==3.7.1) (1.2.0)\n",
      "Requirement already satisfied: markdown-it-py>=2.2.0 in /Users/ryan/github/ballitoreproject/venv/lib/python3.10/site-packages (from rich>=10.11.0->typer<1.0.0,>=0.3.0->spacy<3.8.0,>=3.7.2->en-core-web-sm==3.7.1) (3.0.0)\n",
      "Requirement already satisfied: pygments<3.0.0,>=2.13.0 in /Users/ryan/github/ballitoreproject/venv/lib/python3.10/site-packages (from rich>=10.11.0->typer<1.0.0,>=0.3.0->spacy<3.8.0,>=3.7.2->en-core-web-sm==3.7.1) (2.18.0)\n",
      "Requirement already satisfied: wrapt in /Users/ryan/github/ballitoreproject/venv/lib/python3.10/site-packages (from smart-open<8.0.0,>=5.2.1->weasel<0.5.0,>=0.1.0->spacy<3.8.0,>=3.7.2->en-core-web-sm==3.7.1) (1.16.0)\n",
      "Requirement already satisfied: mdurl~=0.1 in /Users/ryan/github/ballitoreproject/venv/lib/python3.10/site-packages (from markdown-it-py>=2.2.0->rich>=10.11.0->typer<1.0.0,>=0.3.0->spacy<3.8.0,>=3.7.2->en-core-web-sm==3.7.1) (0.1.2)\n",
      "\u001b[38;5;2m✔ Download and installation successful\u001b[0m\n",
      "You can now load the package via spacy.load('en_core_web_sm')\n"
     ]
    }
   ],
   "source": [
    "import spacy\n",
    "!python -m spacy download en_core_web_sm\n",
    "nlp = spacy.load('en_core_web_sm')"
   ]
  },
  {
   "cell_type": "code",
   "execution_count": 22,
   "metadata": {},
   "outputs": [
    {
     "data": {
      "text/plain": [
       "This will be handed thee I suppose by Cd Morgan who intends for Clonmel tomorrow"
      ]
     },
     "execution_count": 22,
     "metadata": {},
     "output_type": "execute_result"
    }
   ],
   "source": [
    "sent = 'This will be handed thee I suppose by Cd Morgan who intends for Clonmel tomorrow'\n",
    "doc = nlp(sent)\n",
    "doc"
   ]
  },
  {
   "cell_type": "code",
   "execution_count": 23,
   "metadata": {},
   "outputs": [
    {
     "name": "stdout",
     "output_type": "stream",
     "text": [
      "Cd Morgan PERSON\n",
      "Clonmel GPE\n",
      "tomorrow DATE\n"
     ]
    }
   ],
   "source": [
    "for ent in doc.ents:\n",
    "    print(ent.text, ent.label_)"
   ]
  },
  {
   "cell_type": "code",
   "execution_count": 24,
   "metadata": {},
   "outputs": [
    {
     "data": {
      "text/plain": [
       "['Clonmel']"
      ]
     },
     "execution_count": 24,
     "metadata": {},
     "output_type": "execute_result"
    }
   ],
   "source": [
    "def get_places(text):\n",
    "    doc = nlp(text)\n",
    "    return [ent.text for ent in doc.ents if ent.label_=='GPE']\n",
    "\n",
    "get_places(sent)"
   ]
  },
  {
   "cell_type": "code",
   "execution_count": 25,
   "metadata": {},
   "outputs": [
    {
     "data": {
      "text/plain": [
       "['Cd Morgan']"
      ]
     },
     "execution_count": 25,
     "metadata": {},
     "output_type": "execute_result"
    }
   ],
   "source": [
    "def get_people(text):\n",
    "    doc = nlp(text)\n",
    "    return [ent.text for ent in doc.ents if ent.label_=='PERSON']\n",
    "\n",
    "get_people(sent)"
   ]
  },
  {
   "cell_type": "code",
   "execution_count": 26,
   "metadata": {},
   "outputs": [
    {
     "name": "stderr",
     "output_type": "stream",
     "text": [
      "100%|██████████| 4560/4560 [00:03<00:00, 1275.10it/s]\n",
      "100%|██████████| 4560/4560 [00:03<00:00, 1306.69it/s]\n"
     ]
    },
    {
     "data": {
      "text/html": [
       "<div>\n",
       "<style scoped>\n",
       "    .dataframe tbody tr th:only-of-type {\n",
       "        vertical-align: middle;\n",
       "    }\n",
       "\n",
       "    .dataframe tbody tr th {\n",
       "        vertical-align: top;\n",
       "    }\n",
       "\n",
       "    .dataframe thead th {\n",
       "        text-align: right;\n",
       "    }\n",
       "</style>\n",
       "<table border=\"1\" class=\"dataframe\">\n",
       "  <thead>\n",
       "    <tr style=\"text-align: right;\">\n",
       "      <th></th>\n",
       "      <th>places</th>\n",
       "      <th>people</th>\n",
       "    </tr>\n",
       "    <tr>\n",
       "      <th>id</th>\n",
       "      <th></th>\n",
       "      <th></th>\n",
       "    </tr>\n",
       "  </thead>\n",
       "  <tbody>\n",
       "    <tr>\n",
       "      <th>mss4-b1-f7-001-176</th>\n",
       "      <td>[]</td>\n",
       "      <td>[]</td>\n",
       "    </tr>\n",
       "    <tr>\n",
       "      <th>mss4-b1-f3-005</th>\n",
       "      <td>[]</td>\n",
       "      <td>[]</td>\n",
       "    </tr>\n",
       "    <tr>\n",
       "      <th>mss4-b1-f7-001-3</th>\n",
       "      <td>[]</td>\n",
       "      <td>[]</td>\n",
       "    </tr>\n",
       "    <tr>\n",
       "      <th>mss4-b1-f3-005-006</th>\n",
       "      <td>[us]</td>\n",
       "      <td>[Thou]</td>\n",
       "    </tr>\n",
       "    <tr>\n",
       "      <th>mss4-b1-f7-001-15</th>\n",
       "      <td>[]</td>\n",
       "      <td>[]</td>\n",
       "    </tr>\n",
       "    <tr>\n",
       "      <th>...</th>\n",
       "      <td>...</td>\n",
       "      <td>...</td>\n",
       "    </tr>\n",
       "    <tr>\n",
       "      <th>consensus_text_90345943</th>\n",
       "      <td>[Margt, Lilia]</td>\n",
       "      <td>[Charlie, Buff, Papa, Barrington, Evelyn, Ned,...</td>\n",
       "    </tr>\n",
       "    <tr>\n",
       "      <th>consensus_text_90345944</th>\n",
       "      <td>[Margt, Selina]</td>\n",
       "      <td>[Charlie, Vesey Place, Henry Robert Perry, Ned...</td>\n",
       "    </tr>\n",
       "    <tr>\n",
       "      <th>consensus_text_90345945</th>\n",
       "      <td>[Selina, Mrs Rigbys, Selina, Margt]</td>\n",
       "      <td>[Philip, Charlie, Ned, Ned, Seeds, Papa Mama, ...</td>\n",
       "    </tr>\n",
       "    <tr>\n",
       "      <th>consensus_text_90345946</th>\n",
       "      <td>[Margt, Rotunda, Selina]</td>\n",
       "      <td>[Papa, Papa, Philip, Thomas Henry]</td>\n",
       "    </tr>\n",
       "    <tr>\n",
       "      <th>consensus_text_90345947</th>\n",
       "      <td>[]</td>\n",
       "      <td>[Ned, Mama, Philip, N. P.]</td>\n",
       "    </tr>\n",
       "  </tbody>\n",
       "</table>\n",
       "<p>4560 rows × 2 columns</p>\n",
       "</div>"
      ],
      "text/plain": [
       "                                                      places  \\\n",
       "id                                                             \n",
       "mss4-b1-f7-001-176                                        []   \n",
       "mss4-b1-f3-005                                            []   \n",
       "mss4-b1-f7-001-3                                          []   \n",
       "mss4-b1-f3-005-006                                      [us]   \n",
       "mss4-b1-f7-001-15                                         []   \n",
       "...                                                      ...   \n",
       "consensus_text_90345943                       [Margt, Lilia]   \n",
       "consensus_text_90345944                      [Margt, Selina]   \n",
       "consensus_text_90345945  [Selina, Mrs Rigbys, Selina, Margt]   \n",
       "consensus_text_90345946             [Margt, Rotunda, Selina]   \n",
       "consensus_text_90345947                                   []   \n",
       "\n",
       "                                                                    people  \n",
       "id                                                                          \n",
       "mss4-b1-f7-001-176                                                      []  \n",
       "mss4-b1-f3-005                                                          []  \n",
       "mss4-b1-f7-001-3                                                        []  \n",
       "mss4-b1-f3-005-006                                                  [Thou]  \n",
       "mss4-b1-f7-001-15                                                       []  \n",
       "...                                                                    ...  \n",
       "consensus_text_90345943  [Charlie, Buff, Papa, Barrington, Evelyn, Ned,...  \n",
       "consensus_text_90345944  [Charlie, Vesey Place, Henry Robert Perry, Ned...  \n",
       "consensus_text_90345945  [Philip, Charlie, Ned, Ned, Seeds, Papa Mama, ...  \n",
       "consensus_text_90345946                 [Papa, Papa, Philip, Thomas Henry]  \n",
       "consensus_text_90345947                         [Ned, Mama, Philip, N. P.]  \n",
       "\n",
       "[4560 rows x 2 columns]"
      ]
     },
     "execution_count": 26,
     "metadata": {},
     "output_type": "execute_result"
    }
   ],
   "source": [
    "df_smpl['places']=[get_named_places_for_id(id) for id in tqdm(df_smpl.index)]\n",
    "df_smpl['people']=[get_named_people_for_id(id) for id in tqdm(df_smpl.index)]\n",
    "df_smpl[['places','people']]"
   ]
  },
  {
   "cell_type": "code",
   "execution_count": 27,
   "metadata": {},
   "outputs": [
    {
     "data": {
      "text/plain": [
       "Dublin        943\n",
       "London        511\n",
       "Margt         420\n",
       "Ireland       390\n",
       "Cousin        279\n",
       "England       247\n",
       "Clonmel       202\n",
       "Waterford     183\n",
       "Britain       149\n",
       "America       131\n",
       "Belfast       112\n",
       "SB             86\n",
       "Scotland       84\n",
       "Providence     81\n",
       "Debby          78\n",
       "Paris          74\n",
       "Lydia          71\n",
       "Limerick       71\n",
       "Molly          70\n",
       "Selina         66\n",
       "Liverpool      66\n",
       "Richmond       64\n",
       "P.S.           61\n",
       "Kingstown      57\n",
       "Edinburgh      56\n",
       "Name: count, dtype: int64"
      ]
     },
     "execution_count": 27,
     "metadata": {},
     "output_type": "execute_result"
    }
   ],
   "source": [
    "all_places = pd.Series(place for places in df_smpl.places for place in places).value_counts()\n",
    "all_places.head(25)"
   ]
  },
  {
   "cell_type": "code",
   "execution_count": 28,
   "metadata": {},
   "outputs": [
    {
     "data": {
      "text/plain": [
       "Sarah                 564\n",
       "Sally                 489\n",
       "Charlie               478\n",
       "Mary                  478\n",
       "John                  395\n",
       "Betsy                 331\n",
       "Elizabeth             325\n",
       "Thomas                320\n",
       "Philip                299\n",
       "Richard Shackleton    290\n",
       "Richard               289\n",
       "Ned                   287\n",
       "James                 277\n",
       "Deborah               251\n",
       "Thou                  232\n",
       "Uncle                 197\n",
       "Mary Leadbeater       188\n",
       "Jane                  182\n",
       "thro                  180\n",
       "Hannah                179\n",
       "Aunt                  164\n",
       "Edward                162\n",
       "Husband               159\n",
       "Lucy                  157\n",
       "Ellen                 151\n",
       "Name: count, dtype: int64"
      ]
     },
     "execution_count": 28,
     "metadata": {},
     "output_type": "execute_result"
    }
   ],
   "source": [
    "all_people = pd.Series(person for persons in df_smpl.people for person in persons).value_counts()\n",
    "all_people.head(25)"
   ]
  },
  {
   "cell_type": "code",
   "execution_count": null,
   "metadata": {},
   "outputs": [],
   "source": [
    "# !pip install geopy\n",
    "from geopy.geocoders import Nominatim\n",
    "geolocator = Nominatim(user_agent=\"ballitoreproject\")"
   ]
  },
  {
   "cell_type": "code",
   "execution_count": null,
   "metadata": {},
   "outputs": [],
   "source": [
    "loc=geolocator.geocode('Clonmel')\n",
    "loc"
   ]
  },
  {
   "cell_type": "code",
   "execution_count": null,
   "metadata": {},
   "outputs": [],
   "source": [
    "loc.raw"
   ]
  },
  {
   "cell_type": "code",
   "execution_count": null,
   "metadata": {},
   "outputs": [],
   "source": [
    "geolocator.geocode('Clonmel', exactly_one=False)"
   ]
  },
  {
   "cell_type": "markdown",
   "metadata": {},
   "source": []
  },
  {
   "cell_type": "code",
   "execution_count": null,
   "metadata": {},
   "outputs": [],
   "source": [
    "geolocator.geocode('Waterford', exactly_one=False)"
   ]
  },
  {
   "cell_type": "code",
   "execution_count": null,
   "metadata": {},
   "outputs": [],
   "source": [
    "# !pip install diskcache"
   ]
  },
  {
   "cell_type": "code",
   "execution_count": null,
   "metadata": {},
   "outputs": [],
   "source": []
  },
  {
   "cell_type": "code",
   "execution_count": null,
   "metadata": {},
   "outputs": [],
   "source": [
    "import diskcache as dc\n",
    "cache_obj = dc.Cache(os.path.join(PATH_DATA,'geocache'))\n",
    "\n",
    "@cache_obj.memoize()\n",
    "def get_place_data(placename):\n",
    "    loc = geolocator.geocode(placename)\n",
    "    if not loc: return {}\n",
    "    outd = {**loc.raw}\n",
    "    outd['lat']=float(outd['lat'])\n",
    "    outd['lon']=float(outd['lon'])\n",
    "    return outd\n",
    "\n",
    "get_place_data('Clonmel')"
   ]
  },
  {
   "cell_type": "code",
   "execution_count": null,
   "metadata": {},
   "outputs": [],
   "source": [
    "# places_ld=[]\n",
    "# for place,count in tqdm(list(all_places.items())):\n",
    "#     place_d={'place':place, 'count':count, **get_place_data(place)}\n",
    "#     places_ld.append(place_d)\n",
    "# places_df=pd.DataFrame(places_ld).dropna()\n",
    "# places_df"
   ]
  },
  {
   "cell_type": "code",
   "execution_count": null,
   "metadata": {},
   "outputs": [],
   "source": [
    "# !pip install folium"
   ]
  },
  {
   "cell_type": "code",
   "execution_count": null,
   "metadata": {},
   "outputs": [],
   "source": [
    "import pandas as pd\n",
    "import folium\n",
    "\n",
    "def create_map_with_markers(df):\n",
    "    \"\"\"\n",
    "    Creates a folium map with markers sized proportionally to the count values in the DataFrame.\n",
    "    \n",
    "    Parameters:\n",
    "    df (pd.DataFrame): DataFrame containing 'place', 'count', 'lat', 'lon' columns.\n",
    "    \n",
    "    Returns:\n",
    "    folium.Map: Interactive map with markers.\n",
    "    \"\"\"\n",
    "    # Create a folium map centered around the mean latitude and longitude\n",
    "    map_center = [df['lat'].mean(), df['lon'].mean()]\n",
    "    fmap = folium.Map(location=map_center, zoom_start=2)\n",
    "\n",
    "    # Define a function to scale the marker sizes\n",
    "    def scale_size(count, min_count, max_count, min_size=3, max_size=15):\n",
    "        return ((count - min_count) / (max_count - min_count)) * (max_size - min_size) + min_size\n",
    "\n",
    "    # Get min and max count values for scaling\n",
    "    min_count = df['count'].min()\n",
    "    max_count = df['count'].max()\n",
    "\n",
    "    # Add markers to the map\n",
    "    for _, row in df.iterrows():\n",
    "        marker_size = scale_size(row['count'], min_count, max_count)\n",
    "        folium.CircleMarker(\n",
    "            location=(row['lat'], row['lon']),\n",
    "            radius=marker_size,\n",
    "            popup=f\"{row['place']}: {row['count']}\",\n",
    "            color='blue',\n",
    "            fill=True,\n",
    "            fill_color='blue'\n",
    "        ).add_to(fmap)\n",
    "\n",
    "    return fmap\n",
    "\n",
    "fmap = create_map_with_markers(places_df)\n",
    "fmap\n"
   ]
  },
  {
   "cell_type": "code",
   "execution_count": null,
   "metadata": {},
   "outputs": [],
   "source": []
  }
 ],
 "metadata": {
  "kernelspec": {
   "display_name": "venv",
   "language": "python",
   "name": "python3"
  },
  "language_info": {
   "codemirror_mode": {
    "name": "ipython",
    "version": 3
   },
   "file_extension": ".py",
   "mimetype": "text/x-python",
   "name": "python",
   "nbconvert_exporter": "python",
   "pygments_lexer": "ipython3",
   "version": "3.10.7"
  }
 },
 "nbformat": 4,
 "nbformat_minor": 2
}
